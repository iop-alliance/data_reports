{
 "cells": [
  {
   "cell_type": "markdown",
   "id": "e7b4a614",
   "metadata": {},
   "source": [
    "<img src=\"https://pbs.twimg.com/profile_images/1092394418135539713/eplLRcDN_400x400.jpg\" width=80px style=\"align:left\"> </img>\n",
    "\n",
    "# The Internet of Production Alliance\n",
    "\n",
    "## Data report for the [Data awards Round 1](https://www.internetofproduction.org/events/launch-of-the-okw-data-awards)"
   ]
  },
  {
   "cell_type": "markdown",
   "id": "58bd0244",
   "metadata": {},
   "source": [
    "Autor: Antonio de Jesus Anaya Hernandez, DevOps eng. for the IoPA.\n",
    "\n",
    "Autor: The internet of Production Alliance, 2023.\n",
    "\n",
    "Data was collected by \"Glyxon labs', as part of the OKW Data Awards program.\n",
    "\n",
    "The Open Know Where (OKW) Standard is part of the Internet of Production Alliance and its members.\n",
    "\n",
    "License: CC BY SA\n",
    "\n",
    "![CC BY SA](https://mirrors.creativecommons.org/presskit/buttons/88x31/svg/by-sa.svg)"
   ]
  },
  {
   "cell_type": "markdown",
   "id": "0af64367",
   "metadata": {},
   "source": [
    "# Introduction\n",
    "\n",
    "This review is provided as an analysis and recomendations document for the awardees participants of the OKW Data Awards.\n"
   ]
  },
  {
   "cell_type": "code",
   "execution_count": 1,
   "id": "28170533",
   "metadata": {
    "scrolled": true
   },
   "outputs": [],
   "source": [
    "import geopandas\n",
    "import folium\n",
    "from folium.plugins import HeatMap, MiniMap, FloatImage, Search, LocateControl\n",
    "import pandas as pd\n",
    "import os\n",
    "from datetime import datetime\n",
    "from scipy.spatial import KDTree\n",
    "#import base64\n",
    "import seaborn as sns\n",
    "import matplotlib.pyplot as plt\n",
    "import numpy as np"
   ]
  },
  {
   "cell_type": "code",
   "execution_count": 2,
   "id": "8421f7c2",
   "metadata": {
    "scrolled": true
   },
   "outputs": [],
   "source": [
    "files = [\"3d_printing.geojson\", \"cnc.geojson\", \"laser_cutting.geojson\",\"prototyping.geojson\",\"robotics.geojson\"]"
   ]
  },
  {
   "cell_type": "code",
   "execution_count": 3,
   "id": "1e9c296f",
   "metadata": {
    "scrolled": true
   },
   "outputs": [
    {
     "name": "stdout",
     "output_type": "stream",
     "text": [
      "Filename: \t 3d_printing.geojson\n",
      "Format: \t GEOJSON\n"
     ]
    },
    {
     "ename": "FileNotFoundError",
     "evalue": "[WinError 2] The system cannot find the file specified: '3d_printing.geojson'",
     "output_type": "error",
     "traceback": [
      "\u001b[1;31m---------------------------------------------------------------------------\u001b[0m",
      "\u001b[1;31mFileNotFoundError\u001b[0m                         Traceback (most recent call last)",
      "Cell \u001b[1;32mIn[3], line 4\u001b[0m\n\u001b[0;32m      2\u001b[0m \u001b[38;5;28mprint\u001b[39m(\u001b[38;5;124m'\u001b[39m\u001b[38;5;124mFilename: \u001b[39m\u001b[38;5;130;01m\\t\u001b[39;00m\u001b[38;5;124m'\u001b[39m, \u001b[38;5;28mstr\u001b[39m(filename))\n\u001b[0;32m      3\u001b[0m \u001b[38;5;28mprint\u001b[39m(\u001b[38;5;124m'\u001b[39m\u001b[38;5;124mFormat: \u001b[39m\u001b[38;5;130;01m\\t\u001b[39;00m\u001b[38;5;124m'\u001b[39m, \u001b[38;5;28mstr\u001b[39m(filename\u001b[38;5;241m.\u001b[39msplit(sep\u001b[38;5;241m=\u001b[39m\u001b[38;5;124m'\u001b[39m\u001b[38;5;124m.\u001b[39m\u001b[38;5;124m'\u001b[39m)[\u001b[38;5;241m1\u001b[39m])\u001b[38;5;241m.\u001b[39mupper())\n\u001b[1;32m----> 4\u001b[0m \u001b[38;5;28mprint\u001b[39m(\u001b[38;5;124m'\u001b[39m\u001b[38;5;124mModified: \u001b[39m\u001b[38;5;130;01m\\t\u001b[39;00m\u001b[38;5;124m'\u001b[39m, \u001b[38;5;28mstr\u001b[39m(datetime\u001b[38;5;241m.\u001b[39mfromtimestamp(\u001b[43mos\u001b[49m\u001b[38;5;241;43m.\u001b[39;49m\u001b[43mpath\u001b[49m\u001b[38;5;241;43m.\u001b[39;49m\u001b[43mgetctime\u001b[49m\u001b[43m(\u001b[49m\u001b[43mfilename\u001b[49m\u001b[43m)\u001b[49m)\u001b[38;5;241m.\u001b[39mstrftime(\u001b[38;5;124m'\u001b[39m\u001b[38;5;124m%\u001b[39m\u001b[38;5;124mY-\u001b[39m\u001b[38;5;124m%\u001b[39m\u001b[38;5;124mm-\u001b[39m\u001b[38;5;132;01m%d\u001b[39;00m\u001b[38;5;124m \u001b[39m\u001b[38;5;124m%\u001b[39m\u001b[38;5;124mH:\u001b[39m\u001b[38;5;124m%\u001b[39m\u001b[38;5;124mM:\u001b[39m\u001b[38;5;124m%\u001b[39m\u001b[38;5;124mS\u001b[39m\u001b[38;5;124m'\u001b[39m)))\n\u001b[0;32m      5\u001b[0m \u001b[38;5;28mprint\u001b[39m(\u001b[38;5;124m'\u001b[39m\u001b[38;5;124mSize: \u001b[39m\u001b[38;5;130;01m\\t\u001b[39;00m\u001b[38;5;130;01m\\t\u001b[39;00m\u001b[38;5;124m'\u001b[39m, \u001b[38;5;28mstr\u001b[39m(os\u001b[38;5;241m.\u001b[39mpath\u001b[38;5;241m.\u001b[39mgetsize(filename)), \u001b[38;5;124m'\u001b[39m\u001b[38;5;124m KB\u001b[39m\u001b[38;5;124m'\u001b[39m)\n",
      "File \u001b[1;32m~\\anaconda3\\envs\\okw_data_awards\\lib\\genericpath.py:65\u001b[0m, in \u001b[0;36mgetctime\u001b[1;34m(filename)\u001b[0m\n\u001b[0;32m     63\u001b[0m \u001b[38;5;28;01mdef\u001b[39;00m \u001b[38;5;21mgetctime\u001b[39m(filename):\n\u001b[0;32m     64\u001b[0m \u001b[38;5;250m    \u001b[39m\u001b[38;5;124;03m\"\"\"Return the metadata change time of a file, reported by os.stat().\"\"\"\u001b[39;00m\n\u001b[1;32m---> 65\u001b[0m     \u001b[38;5;28;01mreturn\u001b[39;00m \u001b[43mos\u001b[49m\u001b[38;5;241;43m.\u001b[39;49m\u001b[43mstat\u001b[49m\u001b[43m(\u001b[49m\u001b[43mfilename\u001b[49m\u001b[43m)\u001b[49m\u001b[38;5;241m.\u001b[39mst_ctime\n",
      "\u001b[1;31mFileNotFoundError\u001b[0m: [WinError 2] The system cannot find the file specified: '3d_printing.geojson'"
     ]
    }
   ],
   "source": [
    "for filename in files:\n",
    "    print('Filename: \\t', str(filename))\n",
    "    print('Format: \\t', str(filename.split(sep='.')[1]).upper())\n",
    "    print('Modified: \\t', str(datetime.fromtimestamp(os.path.getctime(filename)).strftime('%Y-%m-%d %H:%M:%S')))\n",
    "    print('Size: \\t\\t', str(os.path.getsize(filename)), ' KB')"
   ]
  },
  {
   "cell_type": "code",
   "execution_count": null,
   "id": "d827cad7",
   "metadata": {},
   "outputs": [],
   "source": [
    "os.environ['PROJ_LIB'] = r'C:\\Users\\ANAYA\\anaconda3\\envs\\okw_data_awards\\Library\\share\\proj'"
   ]
  },
  {
   "cell_type": "code",
   "execution_count": null,
   "id": "2b33ba40",
   "metadata": {
    "scrolled": true
   },
   "outputs": [],
   "source": [
    "merged_data = []\n",
    "for filename in files:\n",
    "    data = geopandas.read_file(filename)\n",
    "    data['type'] = str(filename).split('.')[0]\n",
    "    data = data.drop(columns=['description', 'styleUrl','icon-opacity', 'icon-color', 'icon-scale', 'icon'])\n",
    "    data = data.loc[data.drop_duplicates(subset=['geometry']).index]\n",
    "\n",
    "    merged_data.append(data)\n",
    "    print(data.shape)"
   ]
  },
  {
   "cell_type": "code",
   "execution_count": null,
   "id": "0101bc24",
   "metadata": {},
   "outputs": [],
   "source": [
    "print(sum([x.shape[0] for x in merged_data]))"
   ]
  },
  {
   "cell_type": "markdown",
   "id": "c6da3871",
   "metadata": {},
   "source": [
    "# 1"
   ]
  },
  {
   "cell_type": "markdown",
   "id": "afe0123c",
   "metadata": {},
   "source": [
    "## Inspecting data"
   ]
  },
  {
   "cell_type": "code",
   "execution_count": null,
   "id": "2f51d94b",
   "metadata": {
    "scrolled": true
   },
   "outputs": [],
   "source": [
    "merged_data[0]"
   ]
  },
  {
   "cell_type": "markdown",
   "id": "2f14445e",
   "metadata": {},
   "source": [
    "## Reverse geocoding "
   ]
  },
  {
   "cell_type": "code",
   "execution_count": null,
   "id": "4dac30ca",
   "metadata": {
    "scrolled": true
   },
   "outputs": [],
   "source": [
    "geocodes = pd.read_csv('rg_cities1000.csv')\n",
    "\n",
    "# Create a KDTree from the lat-lon coordinates in the geocodes DataFrame\n",
    "tree = KDTree(geocodes[['lat', 'lon']])"
   ]
  },
  {
   "cell_type": "code",
   "execution_count": null,
   "id": "5a1d9aff",
   "metadata": {
    "scrolled": true
   },
   "outputs": [],
   "source": [
    "def get_country_code(latlong):\n",
    "    lat, lon = latlong\n",
    "    _, idx = tree.query([lat, lon])\n",
    "    return geocodes.iloc[idx]['cc']\n",
    "\n",
    "def get_city(latlong):\n",
    "    lat, lon = latlong\n",
    "    _, idx = tree.query([lat, lon])\n",
    "    return geocodes.iloc[idx]['name']"
   ]
  },
  {
   "cell_type": "code",
   "execution_count": null,
   "id": "539132a9",
   "metadata": {
    "scrolled": true
   },
   "outputs": [],
   "source": [
    "for data in merged_data:\n",
    "    data['country'] = list(map(get_country_code, data['geometry'].apply(lambda geom: (geom.y, geom.x))))"
   ]
  },
  {
   "cell_type": "code",
   "execution_count": null,
   "id": "bace3079",
   "metadata": {
    "scrolled": true
   },
   "outputs": [],
   "source": [
    "for data in merged_data:\n",
    "    data['city'] = list(map(get_city, data['geometry'].apply(lambda geom: (geom.y, geom.x))))"
   ]
  },
  {
   "cell_type": "code",
   "execution_count": null,
   "id": "746fc839",
   "metadata": {
    "scrolled": false
   },
   "outputs": [],
   "source": [
    "for data in merged_data:\n",
    "    data.drop(columns='geometry').groupby('country').size().sort_values(ascending=False)"
   ]
  },
  {
   "cell_type": "code",
   "execution_count": null,
   "id": "a723136d",
   "metadata": {
    "scrolled": false
   },
   "outputs": [],
   "source": [
    "sns.set()\n",
    "fig, axes = plt.subplots(5, figsize=(20,20))\n",
    "for index, data in enumerate(merged_data):\n",
    "    ax = sns.countplot(y='country', data=data.drop(columns='geometry'), order=data['country'].value_counts().index, ax=axes[index])\n",
    "    ax.set_title(data['type'][0].upper())\n",
    "    #ax.axis('off')\n",
    "    ax_x = ax.axes.get_xaxis()\n",
    "    # ax_x.set_visible(False)\n",
    "    x_label = ax_x.get_label()\n",
    "    x_label.set_visible(False)\n",
    "    ax_y = ax.axes.get_yaxis()\n",
    "    y_label = ax_y.get_label()\n",
    "    y_label.set_visible(False)"
   ]
  },
  {
   "cell_type": "code",
   "execution_count": null,
   "id": "31ac934f",
   "metadata": {},
   "outputs": [],
   "source": [
    "sns.set()\n",
    "fig, axes = plt.subplots(5, figsize=(20,20))\n",
    "\n",
    "for index, data in enumerate(merged_data):\n",
    "    data.drop(columns='geometry').groupby('city').size().sort_values(ascending=False)\n",
    "    top_cities = data['city'].value_counts().nlargest(20).index\n",
    "    ax = sns.countplot(y='city', data=data[data['city'].isin(top_cities)].drop(columns='geometry'), order=top_cities, ax=axes[index])\n",
    "    ax.set_title(data['type'][0].upper())\n",
    "    #ax.axis('off')\n",
    "    ax_x = ax.axes.get_xaxis()\n",
    "    # ax_x.set_visible(False)\n",
    "    x_label = ax_x.get_label()\n",
    "    x_label.set_visible(False)\n",
    "    ax_y = ax.axes.get_yaxis()\n",
    "    y_label = ax_y.get_label()\n",
    "    y_label.set_visible(False)"
   ]
  },
  {
   "cell_type": "code",
   "execution_count": null,
   "id": "ce68a3b7",
   "metadata": {},
   "outputs": [],
   "source": [
    "point_max = max([(data.geometry.y.max(),  data.geometry.x.max()) for data in merged_data])\n",
    "point_min = min([(data.geometry.y.min(),  data.geometry.x.min()) for data in merged_data])\n",
    "\n",
    "main_map = folium.Map(tiles=None, prefer_canvas=False)\n",
    "# folium.raster_layers.TileLayer(tiles='openstreetmap', name='Basic').add_to(main_map)\n",
    "main_map.fit_bounds((point_min, point_max))"
   ]
  },
  {
   "cell_type": "code",
   "execution_count": null,
   "id": "f92d19f4",
   "metadata": {
    "scrolled": false
   },
   "outputs": [],
   "source": [
    "#colors = ['#E58606','#2F8AC4','#52BCA3','#99C945','#CC61B0','#24796C','#DAA51B','#5D69B1','#764E9F','#ED645A','#CC3A8E','#A5AA99']\n",
    "colors = ['#7F3C8D','#11A579','#3969AC','#F2B701','#E73F74','#80BA5A','#E68310','#008695','#CF1C90','#f97b72','#4b4b8f','#A5AA99']\n",
    "layers = []\n",
    "\n",
    "marker_layer = folium.FeatureGroup(name='Location markers',show=False)\n",
    "main_map.add_child(marker_layer)\n",
    "\n",
    "for index, data in enumerate(merged_data):\n",
    "    \n",
    "    layers.append(folium.plugins.FeatureGroupSubGroup(marker_layer, data['type'][0].title()))\n",
    "    \n",
    "    popup = folium.features.GeoJsonPopup(fields=['name', 'type'],\n",
    "                                         aliases=['Name:', 'Capability:'],\n",
    "                                         localize=True,\n",
    "                                         sticky=False,\n",
    "                                         labels=False,\n",
    "                                         style=\"font-size: 12px;\",\n",
    "                                        )\n",
    "    geojson = folium.GeoJson(data=data,\n",
    "                             popup=popup,\n",
    "                             marker=folium.Circle(radius=4, \n",
    "                                                  fill_color=colors[index], \n",
    "                                                  opacity=0.4, \n",
    "                                                  color=colors[index], \n",
    "                                                  weight=10),\n",
    "                            )\n",
    "    geojson.add_to(layers[index])\n",
    "    main_map.add_child(layers[index])"
   ]
  },
  {
   "cell_type": "code",
   "execution_count": null,
   "id": "c85667a9",
   "metadata": {
    "scrolled": false
   },
   "outputs": [],
   "source": [
    "colors_dict = {\n",
    "    0.1: '#f3e79b',\n",
    "    0.2: '#fac484',\n",
    "    0.3: '#f8a07e',\n",
    "    0.4: '#eb7f86',\n",
    "    0.5: '#ce6693',\n",
    "    0.6: '#a059a0',\n",
    "    0.7: '#5c53a5',\n",
    "    0.8: '#d1eeea',\n",
    "    0.9: '#a8dbd9',\n",
    "    1.0: '#85c4c9'\n",
    "}\n",
    "\n",
    "heatmap_layer = folium.FeatureGroup(name='Capabilities heatmap',show=True)\n",
    "\n",
    "for index, data in enumerate(merged_data):\n",
    "    \n",
    "    heatmap_data = [[row['geometry'].y, row['geometry'].x] for index, row in data.iterrows()]\n",
    "    heatmap = HeatMap(heatmap_data, \n",
    "                      # gradient=colors_dict, \n",
    "                      opacity=0.1, \n",
    "                      radius=10,\n",
    "                      blur=12)\n",
    "    \n",
    "    print(data['type'][0])\n",
    "\n",
    "    heatmap.add_to(heatmap_layer)\n",
    "main_map.add_child(heatmap_layer)"
   ]
  },
  {
   "cell_type": "code",
   "execution_count": null,
   "id": "3dedc553",
   "metadata": {},
   "outputs": [],
   "source": [
    "chorophlet_geo = geopandas.read_file(r'region_america.json', encoding='utf-8')\n",
    "chorophlet_geo = chorophlet_geo[['iso_a2','geometry']]\n",
    "chorophlet_geo = chorophlet_geo.rename(columns = {\"iso_a2\":\"country\"})"
   ]
  },
  {
   "cell_type": "code",
   "execution_count": null,
   "id": "4706a854",
   "metadata": {},
   "outputs": [],
   "source": [
    "data_a = merged_data[0]\n",
    "for index, data in enumerate(merged_data, 1):\n",
    "    data_a = pd.concat([data_a, data])\n",
    "\n",
    "data_a = data_a.drop_duplicates(subset=['name'])\n",
    "data_b = data_a.drop(columns='geometry').groupby('country').size().reset_index(name='count')\n",
    "data_c = data_a.drop(columns='geometry').groupby('city').size().reset_index(name='count')\n",
    "print(data_a.shape, data_b.shape, data_c.shape)\n"
   ]
  },
  {
   "cell_type": "code",
   "execution_count": null,
   "id": "2ee96661",
   "metadata": {
    "scrolled": true
   },
   "outputs": [],
   "source": [
    "style_function = lambda x: {'fillColor': '#ffffff', \n",
    "                            'color':'#000000', \n",
    "                            'fillOpacity': 0.1, \n",
    "                            'weight': 0.1}\n",
    "highlight_function = lambda x: {'fillColor': '#B7D696',  \n",
    "                                'color':'#000000', \n",
    "                                'fillOpacity': 0.1, \n",
    "                                'weight': 0.1}\n",
    "\n",
    "\n",
    "choropleth_pop = folium.features.GeoJson(data = chorophlet_geo.merge(data_b, on='country'),\n",
    "                              style_function=style_function, \n",
    "                              control=True,\n",
    "                              name='Total locations by country',\n",
    "                              highlight_function=highlight_function,\n",
    "                              tooltip=folium.features.GeoJsonTooltip(\n",
    "                                  fields=['country','count'],\n",
    "                                  aliases=['Country: ','Locations: '],\n",
    "                                  style=(\"background-color: white; color: #333333; font-family: arial; font-size: 12px; padding: 10px;\") \n",
    "                              ))\n",
    "main_map.add_child(choropleth_pop)\n",
    "main_map.keep_in_front(choropleth_pop)\n"
   ]
  },
  {
   "cell_type": "code",
   "execution_count": null,
   "id": "6f56a066",
   "metadata": {},
   "outputs": [],
   "source": [
    "location_search = Search(\n",
    "    layer=marker_layer,\n",
    "    geom_type=\"Point\",\n",
    "    placeholder=\"Search by location name\",\n",
    "    collapsed=True,\n",
    "    search_label=\"name\",\n",
    ").add_to(main_map)"
   ]
  },
  {
   "cell_type": "code",
   "execution_count": null,
   "id": "378add37",
   "metadata": {
    "scrolled": false
   },
   "outputs": [],
   "source": [
    "logo_url = 'https://github.com/kny5/data_reports/raw/main/assets/img/iopa_logo_okw.png'\n",
    "logo_size = (10, 10)\n",
    "icon = folium.features.CustomIcon(logo_url, icon_size=logo_size)\n",
    "span = 1\n",
    "float_image = FloatImage(logo_url, bottom=span, left=span, width=logo_size[0], height=logo_size[1])\n",
    "main_map.add_child(float_image)\n",
    "\n",
    "minimap = MiniMap()\n",
    "main_map.add_child(minimap)\n",
    "\n",
    "loc_ctrl = LocateControl()\n",
    "main_map.add_child(loc_ctrl)\n",
    "\n",
    "map_control = folium.LayerControl(collapsed=True)\n",
    "folium.TileLayer('cartodbpositron', name='Gray', control=False, attr=None).add_to(main_map)\n",
    "main_map.add_child(map_control)"
   ]
  },
  {
   "cell_type": "code",
   "execution_count": null,
   "id": "d2207cbb",
   "metadata": {},
   "outputs": [],
   "source": [
    "main_map.save(\"data_awards_r1.html\")"
   ]
  },
  {
   "cell_type": "markdown",
   "id": "33feb46d",
   "metadata": {},
   "source": [
    "## Interacitive map\n",
    "\n",
    "    1. Usage: Click on top-right corner click selector to switch on/off the interactive Markers."
   ]
  },
  {
   "cell_type": "code",
   "execution_count": null,
   "id": "3cc2210d",
   "metadata": {},
   "outputs": [],
   "source": [
    "data_a.to_csv('r1.csv')"
   ]
  },
  {
   "cell_type": "code",
   "execution_count": null,
   "id": "29d5d27f",
   "metadata": {},
   "outputs": [],
   "source": []
  }
 ],
 "metadata": {
  "kernelspec": {
   "display_name": "okw_data_awards",
   "language": "python",
   "name": "okw_data_awards"
  },
  "language_info": {
   "codemirror_mode": {
    "name": "ipython",
    "version": 3
   },
   "file_extension": ".py",
   "mimetype": "text/x-python",
   "name": "python",
   "nbconvert_exporter": "python",
   "pygments_lexer": "ipython3",
   "version": "3.9.16"
  }
 },
 "nbformat": 4,
 "nbformat_minor": 5
}
