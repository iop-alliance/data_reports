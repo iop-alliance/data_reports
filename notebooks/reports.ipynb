{
 "cells": [
  {
   "cell_type": "markdown",
   "id": "253e47e5",
   "metadata": {},
   "source": [
    "<img src=\"https://pbs.twimg.com/profile_images/1092394418135539713/eplLRcDN_400x400.jpg\" width=80px style=\"text-align:right\"><h3>The Internet of Production Alliance </h3>\n",
    "\n",
    "# PRELIMINARY DATA REPORTS\n"
   ]
  },
  {
   "cell_type": "markdown",
   "id": "a662ec05",
   "metadata": {},
   "source": [
    "Autor: Antonio de Jesus Anaya Hernandez, DevOps eng. for the IoPA.\n",
    "\n",
    "Autor: The internet of Production Alliance, 2023.\n",
    "\n",
    "Data was collected by: \n",
    "   \n",
    "   * The Internet of Production Alliance, \n",
    "   * FabFoundation, \n",
    "   * OKW Data Awards\n",
    "\n",
    "The Open Know Where (OKW) Standard is part of the Internet of Production Alliance and its members.\n",
    "\n",
    "#### License: CC BY SA\n",
    "\n",
    "![CC BY SA](https://mirrors.creativecommons.org/presskit/buttons/88x31/svg/by-sa.svg)"
   ]
  },
  {
   "cell_type": "markdown",
   "id": "aef8ad67",
   "metadata": {},
   "source": [
    "* Reports:\n",
    "    <br>\n",
    "    \n",
    "    * [Europe](https://kny5.github.io/data_reports/reports/make_europe.html)\n",
    "\n",
    "    * [Africa](https://kny5.github.io/data_reports/reports/make_africa.html)\n",
    "\n",
    "    * [Machines in FabLabs](https://kny5.github.io/data_reports/reports/machines_in_fablabs_world_tags.html)\n",
    "    \n",
    "    * [LATAM](https://kny5.github.io/data_reports/reports/data_awards/r1_glyxon_merged_files.html)\n",
    "    <br>\n",
    "* Data analysis for Data Awards:\n",
    "    <br>\n",
    "    \n",
    "    * [R1 Glyxon 01](https://kny5.github.io/data_reports/reports/data_awards/r1_glyxon_1of4.html)\n",
    "    \n",
    "    <br>\n",
    "    \n",
    "* OKW world Map prototype:\n",
    "    <br>\n",
    "    \n",
    "    * [Folium version](https://kny5.github.io/data_reports/reports/data_awards/proto_0_folium.html)"
   ]
  },
  {
   "cell_type": "markdown",
   "id": "ae9572b0",
   "metadata": {},
   "source": [
    "\n",
    "* Summary:\n",
    "    <br>\n",
    "    \n",
    "    * FabLab Network:\n",
    "        * Locations:\n",
    "            * Europe: 404\n",
    "            * Africa: 48\n",
    "        * Machines:\n",
    "            * DB: 2320\n",
    "            * Unmatched Europe: 1955\n",
    "            * Unmatched Africa: WIP\n",
    "    * Data awards R1:\n",
    "        * Glyxon:\n",
    "            * Countries: 22 LATAM.\n",
    "            * Cities: 730\n",
    "            * Machines: 0 specified\n",
    "            * Locations: 2885\n",
    "            * Capabilities: [laser cutting, cnc, 3D printing, robotics, prototyping]\n",
    "            * Minimum machine estimation: 3213 (one machine per capability per location)\n",
    "        * OSM Uganda:\n",
    "            * WIP\n",
    "    * NeedsList:\n",
    "        * WIP\n",
    "    * Biohacking spaces:\n",
    "        * WIP\n",
    "    * Makerspaces:\n",
    "        * WIP\n",
    "    * Hackerspaces:\n",
    "        * WIP\n",
    "\n",
    "* Goal:\n",
    "    * 150,000 data points (machines)"
   ]
  }
 ],
 "metadata": {
  "kernelspec": {
   "display_name": "Python 3 (ipykernel)",
   "language": "python",
   "name": "python3"
  },
  "language_info": {
   "codemirror_mode": {
    "name": "ipython",
    "version": 3
   },
   "file_extension": ".py",
   "mimetype": "text/x-python",
   "name": "python",
   "nbconvert_exporter": "python",
   "pygments_lexer": "ipython3",
   "version": "3.9.13"
  }
 },
 "nbformat": 4,
 "nbformat_minor": 5
}
