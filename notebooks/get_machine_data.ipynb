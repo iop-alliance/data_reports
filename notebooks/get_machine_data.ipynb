{
 "cells": [
  {
   "cell_type": "code",
   "execution_count": 1,
   "id": "12215927",
   "metadata": {},
   "outputs": [],
   "source": [
    "import requests\n",
    "\n",
    "url = 'https://fablabs.io/machines/zmorph-2-0sx-multitool'"
   ]
  },
  {
   "cell_type": "code",
   "execution_count": 2,
   "id": "ac35772a",
   "metadata": {},
   "outputs": [],
   "source": [
    "r = requests.get(url)"
   ]
  },
  {
   "cell_type": "code",
   "execution_count": 38,
   "id": "be5c288a",
   "metadata": {},
   "outputs": [
    {
     "data": {
      "text/plain": [
       "200"
      ]
     },
     "execution_count": 38,
     "metadata": {},
     "output_type": "execute_result"
    }
   ],
   "source": [
    "r.status_code"
   ]
  },
  {
   "cell_type": "code",
   "execution_count": 3,
   "id": "13756f77",
   "metadata": {},
   "outputs": [],
   "source": [
    "from bs4 import BeautifulSoup\n",
    "page_content = BeautifulSoup(r.content, 'html.parser')"
   ]
  },
  {
   "cell_type": "code",
   "execution_count": 4,
   "id": "36a514c6",
   "metadata": {},
   "outputs": [
    {
     "data": {
      "text/plain": [
       "<!DOCTYPE html>\n",
       "\n",
       "<html lang=\"en\" xmlns=\"http://www.w3.org/1999/xhtml\" xmlns:fb=\"http://www.facebook.com/2008/fbml\" xmlns:og=\"http://ogp.me/ns#\">\n",
       "<head>\n",
       "<title>Zmorph 2.0SX Multitool | FabLabs</title>\n",
       "<base target=\"_parent\"/>\n",
       "<meta charset=\"utf-8\"/>\n",
       "<meta content=\"width=device-width, initial-scale=1.0, user-scalable=no\" name=\"viewport\"/>\n",
       "<meta content=\"Zmorph 2.0SX Multitool | FabLabs\" property=\"og:title\"/>\n",
       "<meta content=\"FabLabs.io - The Fab Lab Network\" property=\"og:site_name\"/>\n",
       "<meta content=\"https://fablabs.io/machines/zmorph-2-0sx-multitool\" property=\"og:url\"/>\n",
       "<meta content=\"https://www.fablabs.io/logo.jpg\" property=\"og:image\"/>\n",
       "<meta content=\"A platform for connecting Fab Labs and their users from around the world.\" property=\"og:description\"/>\n",
       "<meta content=\"1349222175\" property=\"fb:admins\"/>\n",
       "<link crossorigin=\"anonymous\" href=\"https://stackpath.bootstrapcdn.com/bootstrap/4.4.0/css/bootstrap.min.css\" integrity=\"sha384-SI27wrMjH3ZZ89r4o+fGIJtnzkAnFs3E4qz9DIYioCQ5l9Rd/7UAa8DHcaL8jkWt\" rel=\"stylesheet\"/>\n",
       "<script src=\"https://code.jquery.com/jquery-3.4.1.slim.min.js\"></script>\n",
       "<script crossorigin=\"anonymous\" integrity=\"sha384-Iep5TjrwnXOp2AdreAjhlprhxI5Ix8Y3I/zJd1tNQZQmonaE3i6fTdrvIG9YjOWl\" src=\"https://stackpath.bootstrapcdn.com/bootstrap/4.4.0/js/bootstrap.bundle.min.js\"></script>\n",
       "<link crossorigin=\"anonymous\" href=\"https://stackpath.bootstrapcdn.com/font-awesome/4.7.0/css/font-awesome.min.css\" integrity=\"sha384-wvfXpqpZZVQGK6TAh5PVlGOfQNHSoD2xbE+QkPxCAFlNEevoEH3Sl0sibVcOQVnN\" rel=\"stylesheet\"/>\n",
       "<link href=\"https://fablabs.io/machines/zmorph-2-0sx-multitool\" rel=\"canonical\"/>\n",
       "<script src=\"https://unpkg.com/leaflet@1.0.3/dist/leaflet.js\"></script>\n",
       "<link href=\"https://api.mapbox.com/mapbox.js/v3.0.1/mapbox.css\" rel=\"stylesheet\"/>\n",
       "<script src=\"https://api.mapbox.com/mapbox.js/v3.0.1/mapbox.js\"></script>\n",
       "<!-- Load chartkick + char.js bundle via CDN -->\n",
       "<script crossorigin=\"anonymous\" integrity=\"sha512-vb5WQQcLnuPF84N6gRb9OBxe9AvY+rb04YwZIf66g7GImHwUv/u/gILQGrHRdW9BLideA5cA4OZbrFyWjswIcA==\" src=\"https://cdnjs.cloudflare.com/ajax/libs/chartkick/2.3.0/chartkick.js\"></script>\n",
       "<script crossorigin=\"anonymous\" integrity=\"sha512-zO8oeHCxetPn1Hd9PdDleg5Tw1bAaP0YmNvPY8CwcRyUk7d7/+nyElmFrB6f7vg4f7Fv4sui1mcep8RIEShczg==\" src=\"https://cdnjs.cloudflare.com/ajax/libs/Chart.js/2.9.4/Chart.bundle.js\"></script>\n",
       "<link href=\"//fonts.googleapis.com/css?family=Open+Sans:400|Montserrat\" media=\"screen\" rel=\"stylesheet\">\n",
       "<link data-turbolinks-track=\"true\" href=\"/assets/application-67793293e2d30abaa9f880ff174b272015951109c84b3e438b2bf77ccc03c444.css\" media=\"all\" rel=\"stylesheet\">\n",
       "<script data-turbolinks-track=\"true\" src=\"/assets/application-178c9a3f4e9a5c9ab28022fadbfd8ab7860ed891f8db53d72a13e53849909cfc.js\"></script>\n",
       "<link href=\"/humans.txt\" rel=\"author\" type=\"text/plain\"/>\n",
       "<meta content=\"authenticity_token\" name=\"csrf-param\">\n",
       "<meta content=\"xrfjq2q7jzp6jOLZsiYgoHM3o9x5HYjdHC+pphxNxbsdsnLN0BGSdP7rjTVL5uv+nGFnQpCvKkX7UlIXCHax4A==\" name=\"csrf-token\">\n",
       "<!-- Hotjar Tracking Code for https://fablabs.io/ -->\n",
       "<script>\n",
       "  (function(h,o,t,j,a,r){\n",
       "    h.hj=h.hj||function(){(h.hj.q=h.hj.q||[]).push(arguments)};\n",
       "      h._hjSettings={hjid:2282890,hjsv:6};\n",
       "        a=o.getElementsByTagName('head')[0];\n",
       "        r=o.createElement('script');r.async=1;\n",
       "        r.src=t+h._hjSettings.hjid+j+h._hjSettings.hjsv;\n",
       "        a.appendChild(r);\n",
       "    })(window,document,'https://static.hotjar.com/c/hotjar-','.js?sv=');\n",
       "</script>\n",
       "</meta></meta></link></link></head>\n",
       "<body class=\"production c-machines a-show\">\n",
       "<nav class=\"navbar navbar-custom navbar-expand-lg\" role=\"navigation\">\n",
       "<div class=\"container-fluid\">\n",
       "<a class=\"navbar-brand\" href=\"/\"><img alt=\"fablabs.io\" src=\"/assets/logo-78c5ba6a9895eaf5debdd08d9856b62703ebf0658507f6972742505cb1f75a7b.svg\"/>\n",
       "</a><button aria-controls=\"navbar\" aria-expanded=\"false\" aria-label=\"Toggle navigation\" class=\"mt-0 navbar-toggler\" data-target=\"#navbar\" data-toggle=\"collapse\" type=\"button\">\n",
       "<i class=\"fa fa-bars fa-lg\"></i>\n",
       "</button>\n",
       "<div class=\"collapse navbar-collapse\" id=\"navbar\">\n",
       "<form accept-charset=\"UTF-8\" action=\"/search\" class=\"navbar-form\" method=\"get\"><input name=\"utf8\" type=\"hidden\" value=\"✓\"/>\n",
       "<div class=\"form-group container-fluid mb-0\">\n",
       "<input autocomplete=\"off\" class=\"form-control\" id=\"search-box\" name=\"query\" placeholder=\"🔎  Search, anything\" type=\"text\"/>\n",
       "</div>\n",
       "</form>\n",
       "<ul class=\"navbar-nav\">\n",
       "<li class=\"nav-item\">\n",
       "<a class=\"nav-link\" href=\"/labs\">Labs</a>\n",
       "</li>\n",
       "<li class=\"nav-item\">\n",
       "<a class=\"nav-link\" href=\"/organizations\">Orgs</a>\n",
       "</li>\n",
       "<li class=\"nav-item\">\n",
       "<a class=\"nav-link\" href=\"/machines\">Máquinas</a>\n",
       "</li>\n",
       "<li class=\"nav-item\">\n",
       "<a class=\"nav-link\" href=\"/jobs\">Trabajos</a>\n",
       "</li>\n",
       "<li class=\"nav-item\">\n",
       "<a class=\"nav-link\" href=\"https://fabevent.org/\" target=\"_blank\">Eventos\n",
       "<i class=\"fa fa-external-link ml-1\"></i>\n",
       "</a></li>\n",
       "<li class=\"nav-item\">\n",
       "<a class=\"nav-link\" href=\"https://live.fablabs.io/\" target=\"_blank\">Network\n",
       "<i class=\"fa fa-external-link ml-1\"></i>\n",
       "</a></li>\n",
       "<li class=\"nav-item\">\n",
       "<a class=\"nav-link\" href=\"https://projects.fablabs.io\" target=\"_blank\">Projects\n",
       "<i class=\"fa fa-external-link ml-1\"></i>\n",
       "</a></li>\n",
       "<li class=\"nav-item\">\n",
       "<a class=\"nav-link\" href=\"https://forum.fablabs.io\" target=\"_blank\">Forum\n",
       "<i class=\"fa fa-external-link ml-1\"></i>\n",
       "</a></li>\n",
       "</ul>\n",
       "<ul class=\"nav navbar-nav ml-auto\">\n",
       "<li class=\"navbar-btn\">\n",
       "<a class=\"btn btn-default w-100\" href=\"/signin\">Iniciar sesión</a>\n",
       "</li>\n",
       "<li class=\"navbar-btn\">\n",
       "<a class=\"btn btn-primary w-100\" href=\"/signup\">Registrarse</a>\n",
       "</li>\n",
       "<li class=\"navbar-btn\"></li>\n",
       "</ul>\n",
       "</div>\n",
       "</div>\n",
       "</nav>\n",
       "<div id=\"main\">\n",
       "<div class=\"container\">\n",
       "<div class=\"row\">\n",
       "<ol class=\"breadcrumb\">\n",
       "<li class=\"breadcrumb-item\">\n",
       "<a href=\"/machines\">Machines</a>\n",
       "</li>\n",
       "<li class=\"breadcrumb-item\">\n",
       "<a href=\"/machines\">Zmorph</a>\n",
       "</li>\n",
       "<li class=\"breadcrumb-item active\"><a href=\"/machines/zmorph-2-0sx-multitool\">Zmorph 2.0SX Multitool</a></li>\n",
       "</ol>\n",
       "</div>\n",
       "<div class=\"row\">\n",
       "<div class=\"col-lg-8\">\n",
       "Zmorph\n",
       "<h1>Zmorph 2.0SX Multitool</h1>\n",
       "<p>FabLab in a box </p>\n",
       "<img src=\"/media/W1siZiIsIjIwMTcvMDYvMjUvMDgvNDYvMTUvMzAyOWI5MWUtNzE1MS00NGQ0LWEyYTktOGEzNTY5NGJmYzliL3N4LTIuMC16bW9ycGhfaG9tZS5qcGciXSxbInAiLCJ0aHVtYiIsIjgwMHg4MDBcdTAwM2UiXV0/sx-2.0-zmorph_home.jpg?sha=cb4d56107dac2fad\"/>\n",
       "</div>\n",
       "<div class=\"col-lg-4 side\">\n",
       "<div class=\"heading\">Tags</div>\n",
       "<ul class=\"taglist list-unstyled text-small list-inline\">\n",
       "<i class=\"fa fa-tags\"></i>\n",
       "<li class=\"gray list-inline-item mb-0\">\n",
       "<strong>\n",
       "<a href=\"/machines?tag=Laser+Engraving+%26+Cutting\">#Laser Engraving &amp; Cutting</a>\n",
       "</strong>\n",
       "</li>\n",
       "<li class=\"gray list-inline-item mb-0\">\n",
       "<strong>\n",
       "<a href=\"/machines?tag=CNC+Milling\">#CNC Milling</a>\n",
       "</strong>\n",
       "</li>\n",
       "<li class=\"gray list-inline-item mb-0\">\n",
       "<strong>\n",
       "<a href=\"/machines?tag=3D+Printing\">#3D Printing</a>\n",
       "</strong>\n",
       "</li>\n",
       "</ul>\n",
       "<ul class=\"list-unstyled\">\n",
       "<li>\n",
       "<a class=\"btn btn-primary\" href=\"http://fab.cba.mit.edu/about/fab/inv.html\" style=\"margin: 0\" title=\"This is included in the Official Fab Lab hardware specification\"><i class=\"fa fa-tag\"></i>\n",
       "Fab Lab Inventory Item\n",
       "</a></li>\n",
       "</ul>\n",
       "<div class=\"heading\">Machine Revisions</div>\n",
       "<ol>\n",
       "<li>Zmorph 2.0SX Multitool</li>\n",
       "</ol>\n",
       "<div class=\"heading\">Available at</div>\n",
       "<ul class=\"list-unstyled\">\n",
       "<li>\n",
       "<img class=\"avatar tiny\" src=\"/media/W1siZmYiLCJwdWJsaWMvZGVmYXVsdC1sYWItYXZhdGFyLnBuZyJdLFsicCIsInRodW1iIiwiOTB4OTAjIl1d/default-lab-avatar.png?sha=128f970e6eb82921\"/>\n",
       "<a href=\"/labs/fablabessex\">FabLab Essex </a>\n",
       "</li>\n",
       "<li>\n",
       "<img class=\"avatar tiny\" src=\"/media/W1siZiIsIjIwMTgvMDkvMTAvMTUvMDUvMjYvZjhlMTgwZTEtODIyNy00NWQ2LTk3MDItODgyNDgzOTYyMWUzL0xvZ29GYWJMYWIxLmpwZyJdLFsicCIsInRodW1iIiwiOTB4OTAjIl1d/LogoFabLab1.jpg?sha=8b9f7afbd920831d\"/>\n",
       "<a href=\"/labs/unipamfablab\">FabLab Unipam</a>\n",
       "</li>\n",
       "<li>\n",
       "<img class=\"avatar tiny\" src=\"/media/W1siZiIsIjIwMjEvMDUvMjAvMTgvNTAvMTYvMzZlNTE5NzUtOTc4MS00NjM1LWI3NzAtZTUwYWRlNmZjZTU5L2xvZ29pby5qcGciXSxbInAiLCJ0aHVtYiIsIjkweDkwIyJdXQ/logoio.jpg?sha=6c6cb702407e2ddc\"/>\n",
       "<a href=\"/labs/fablabescolasesitaubate\">Fab Lab Escola SESI - Taubaté</a>\n",
       "</li>\n",
       "<li>\n",
       "<img class=\"avatar tiny\" src=\"/media/W1siZiIsIjIwMTgvMTIvMTcvMjAvNDkvNDUvZjNjNDc0Y2MtYTNkYi00MzgzLWE2M2MtZjgwOWZiYzc2ZjAzL2xvZ28yLmpwZyJdLFsicCIsInRodW1iIiwiOTB4OTAjIl1d/logo2.jpg?sha=1c214bce41b648e7\"/>\n",
       "<a href=\"/labs/station\">FabLab Station</a>\n",
       "</li>\n",
       "</ul>\n",
       "</div>\n",
       "</div>\n",
       "<div class=\"row mt-3\">\n",
       "<div class=\"col-lg-12\">\n",
       "<a class=\"btn btn-primary\" href=\"/machines/zmorph-2-0sx-multitool/edit\">Edit</a>\n",
       "</div>\n",
       "</div>\n",
       "<div class=\"row mt-5\">\n",
       "<div class=\"col-lg-12\">\n",
       "<h3>Discuss this Machine on forum.fablabs.io</h3>\n",
       "<div id=\"discourse-comments\"></div>\n",
       "<script type=\"text/javascript\">\n",
       "        DiscourseEmbed = { discourseUrl: \"https://forum.fablabs.io/\",\n",
       "                          topicId: 1812 };\n",
       "\n",
       "        (function() {\n",
       "          var d = document.createElement('script'); d.type = 'text/javascript'; d.async = true;\n",
       "          d.src = DiscourseEmbed.discourseUrl + 'javascripts/embed.js';\n",
       "          (document.getElementsByTagName('head')[0] || document.getElementsByTagName('body')[0]).appendChild(d);\n",
       "        })();\n",
       "      </script>\n",
       "</div>\n",
       "</div>\n",
       "</div>\n",
       "</div>\n",
       "<!-- Begin Cookie Consent plugin by Silktide - http://silktide.com/cookieconsent -->\n",
       "<script type=\"text/javascript\">\n",
       "        window.cookieconsent_options = {\"message\":\"This website uses cookies to ensure you get the best experience on our website\",\"dismiss\":\"Got it!\",\"learnMore\":\"More info\",\"link\":\"/cookie-policy\",\"theme\":\"dark-bottom\"};\n",
       "    </script>\n",
       "<script src=\"//cdnjs.cloudflare.com/ajax/libs/cookieconsent2/1.0.10/cookieconsent.min.js\" type=\"text/javascript\"></script>\n",
       "<!-- End Cookie Consent plugin -->\n",
       "<footer>\n",
       "<div class=\"container footer-links\">\n",
       "<div class=\"row\">\n",
       "<div class=\"col-md-4\">\n",
       "<a href=\"https://distributeddesign.eu/\" target=\"_blank\"><img alt=\"Co-funded by the Creative Europe programme of the European Union\" class=\"img-fluid\" src=\"/assets/home/DDMP_Logo_EU_large_black-2c3aa7f7ded9e5eb8a33fb5cbd911784881d062599fbaf391912e6d519fa3350.png\"/></a>\n",
       "<br/>\n",
       "<a href=\"https://fabfoundation.org/\" target=\"_blank\"><img alt=\"Fab Foundation\" class=\"img-fluid mb-3\" src=\"/assets/home/fabfnd-5889231883a71b5cdf0e3d31b34375a00ce9f11ef0f54683e113c60248d3b93c.png\"/></a>\n",
       "<br/>\n",
       "</div>\n",
       "<div class=\"col-md-4 mb-3\">\n",
       "<ul>\n",
       "<li><a href=\"/labs\">Labs List</a></li>\n",
       "<li><a href=\"/labs/map\">Labs Map</a></li>\n",
       "<li><a href=\"/about\">About</a></li>\n",
       "<li><a href=\"https://docs.fablabs.io/\" target=\"_blank\">API Documentation</a></li>\n",
       "<li><a href=\"https://forum.fablabs.io/\" target=\"_blank\">Forum</a></li>\n",
       "<li><a href=\"http://www.fabfoundation.org\">The Fab Foundation</a></li>\n",
       "<li><a href=\"/cookie-policy\">Cookie Policy</a></li>\n",
       "<li><a href=\"/privacy-policy\">Privacy Policy</a></li>\n",
       "<li><a href=\"/tos\">Terms of Service</a></li>\n",
       "</ul>\n",
       "<br/>\n",
       "</div>\n",
       "<div class=\"col-md-4 mb-3\">\n",
       "<ul class=\"locales\">\n",
       "<li><a href=\"/machines/zmorph-2-0sx-multitool?locale=de\">Deutsch</a></li>\n",
       "<li><a href=\"/machines/zmorph-2-0sx-multitool?locale=en\">English</a></li>\n",
       "<li><a class=\"text-primary\" href=\"/machines/zmorph-2-0sx-multitool?locale=es\">Español</a></li>\n",
       "<li><a href=\"/machines/zmorph-2-0sx-multitool?locale=fr\">Français</a></li>\n",
       "<li><a href=\"/machines/zmorph-2-0sx-multitool?locale=it\">Italiano</a></li>\n",
       "<li><a href=\"/machines/zmorph-2-0sx-multitool?locale=nl\">Nederlands</a></li>\n",
       "<li><a href=\"/machines/zmorph-2-0sx-multitool?locale=pt\">Português</a></li>\n",
       "<li><a href=\"/machines/zmorph-2-0sx-multitool?locale=ja\">日本語</a></li>\n",
       "</ul>\n",
       "</div>\n",
       "</div>\n",
       "</div>\n",
       "</footer>\n",
       "<!-- Global site tag (gtag.js) - Google Analytics -->\n",
       "<script async=\"\" src=\"https://www.googletagmanager.com/gtag/js?id=UA-162847683-1\"></script>\n",
       "<script>\n",
       "  window.dataLayer = window.dataLayer || [];\n",
       "  function gtag(){dataLayer.push(arguments);}\n",
       "  gtag('js', new Date());\n",
       "\n",
       "  gtag('config', 'UA-46064152-1');\n",
       "</script>\n",
       "<div aria-labelledby=\"How can we help you?\" class=\"modal fade\" id=\"get-help-text\" role=\"dialog\" tabindex=\"-1\">\n",
       "<div class=\"modal-dialog\" role=\"document\">\n",
       "<div class=\"modal-content\">\n",
       "<div class=\"modal-header\">\n",
       "<h4 class=\"modal-title\">How can we help you?</h4>\n",
       "<button aria-label=\"Close\" class=\"close\" data-dismiss=\"modal\" type=\"button\">\n",
       "<span aria-hidden=\"true\">×</span>\n",
       "</button>\n",
       "</div>\n",
       "<div class=\"modal-body\">\n",
       "<h5>Welcome to fablabs.io!</h5>\n",
       "<p>\n",
       "Here are few suggestions about how we can help you and how you can participate\n",
       "and talk with us if you have any question or problem regarding the Fablabs.io\n",
       "platform.\n",
       "</p>\n",
       "<hr/>\n",
       "<h5>Discuss with the community</h5>\n",
       "<p>\n",
       "You can ask for support to the administrators and the whole community\n",
       "in the Fablabs.io Discuss section within the\n",
       "<a href=\"https://forum.fablabs.io/c/site-feedback\">Site feedback category</a>.\n",
       "<a href=\"https://forum.fablabs.io/c/site-feedback\">Site feedback category</a>\n",
       "we would also love to hear your ideas and suggestions regarding Fablabs.io,\n",
       "its features, development, how it works and how we can improve it.\n",
       "</p>\n",
       "<a class=\"button\" href=\"https://forum.fablabs.io/c/site-feedback\">Discuss with the community</a>\n",
       "<hr/>\n",
       "<h5>Help with the technical development on GitHub</h5>\n",
       "<p>\n",
       "If you have instead messages regarding the technical development or bugs\n",
       "of the platform, we would ask you to discuss these on the Fablabs.io repositories\n",
       "on GitHub (Fablabs.io is free/open source software!) at\n",
       "<a href=\"https://github.com/fablabbcn/fablabs\">https://github.com/fablabbcn/fablabs</a>.\n",
       "</p>\n",
       "<a class=\"button\" href=\"https://github.com/fablabbcn/fablabs\">Join the development</a>\n",
       "<hr/>\n",
       "<h5>E-mail the administrators</h5>\n",
       "<p>\n",
       "If you need instead to contact the administrators of Fablabs.io, please\n",
       "write to\n",
       "<a href=\"mailto:webmasters@fablabs.io\">webmasters@fablabs.io</a>.\n",
       "</p>\n",
       "<a class=\"button\" href=\"mailto:webmasters@fablabs.io\">Write an e-mail to the administrators</a>\n",
       "</div>\n",
       "</div>\n",
       "</div>\n",
       "</div>\n",
       "<button class=\"get-help btn btn-primary btn-sm\" data-target=\"#get-help-text\" data-toggle=\"modal\" type=\"button\">\n",
       "<i class=\"fa fa-question-circle\"></i>\n",
       "Get help\n",
       "</button>\n",
       "</body>\n",
       "</html>"
      ]
     },
     "execution_count": 4,
     "metadata": {},
     "output_type": "execute_result"
    }
   ],
   "source": [
    "page_content"
   ]
  },
  {
   "cell_type": "code",
   "execution_count": 5,
   "id": "32b06e6d",
   "metadata": {},
   "outputs": [],
   "source": [
    "lab_data = page_content.select('div.side > ul.list-unstyled > li > a', limit=0)"
   ]
  },
  {
   "cell_type": "code",
   "execution_count": 6,
   "id": "c35c1b06",
   "metadata": {},
   "outputs": [],
   "source": [
    "labs = [content['href'][6:] for content in lab_data if content['href'][:5] == '/labs']"
   ]
  },
  {
   "cell_type": "code",
   "execution_count": 7,
   "id": "3982551f",
   "metadata": {},
   "outputs": [
    {
     "data": {
      "text/plain": [
       "['fablabessex', 'unipamfablab', 'fablabescolasesitaubate', 'station']"
      ]
     },
     "execution_count": 7,
     "metadata": {},
     "output_type": "execute_result"
    }
   ],
   "source": [
    "labs"
   ]
  },
  {
   "cell_type": "code",
   "execution_count": 8,
   "id": "ef1ddb6a",
   "metadata": {},
   "outputs": [],
   "source": [
    "machine_data = page_content.select('div.row > div.col-lg-8')"
   ]
  },
  {
   "cell_type": "code",
   "execution_count": 9,
   "id": "fcdbe122",
   "metadata": {},
   "outputs": [],
   "source": [
    "machine_info = [x.text.replace(\"\\n\", \"\") for x in machine_data[0].children if x != '\\n' and len(x.text) > 1]"
   ]
  },
  {
   "cell_type": "code",
   "execution_count": 10,
   "id": "aeebb25b",
   "metadata": {},
   "outputs": [
    {
     "data": {
      "text/plain": [
       "['Zmorph', 'Zmorph 2.0SX Multitool', 'FabLab in a box ']"
      ]
     },
     "execution_count": 10,
     "metadata": {},
     "output_type": "execute_result"
    }
   ],
   "source": [
    "machine_info"
   ]
  },
  {
   "cell_type": "code",
   "execution_count": 11,
   "id": "3b39decf",
   "metadata": {},
   "outputs": [
    {
     "data": {
      "text/plain": [
       "'Zmorph'"
      ]
     },
     "execution_count": 11,
     "metadata": {},
     "output_type": "execute_result"
    }
   ],
   "source": [
    "machine_info[0]"
   ]
  },
  {
   "cell_type": "code",
   "execution_count": 12,
   "id": "d75a8d04",
   "metadata": {},
   "outputs": [
    {
     "data": {
      "text/plain": [
       "'Zmorph 2.0SX Multitool'"
      ]
     },
     "execution_count": 12,
     "metadata": {},
     "output_type": "execute_result"
    }
   ],
   "source": [
    "machine_info[1]"
   ]
  },
  {
   "cell_type": "code",
   "execution_count": 13,
   "id": "9e3fbe34",
   "metadata": {},
   "outputs": [
    {
     "data": {
      "text/plain": [
       "'FabLab in a box '"
      ]
     },
     "execution_count": 13,
     "metadata": {},
     "output_type": "execute_result"
    }
   ],
   "source": [
    "machine_info[2]"
   ]
  },
  {
   "cell_type": "code",
   "execution_count": 26,
   "id": "ff90d2fc",
   "metadata": {},
   "outputs": [],
   "source": [
    "tag_data = page_content.select('div.side > ul.taglist > li > strong > a', limit=0)"
   ]
  },
  {
   "cell_type": "code",
   "execution_count": 27,
   "id": "96368f6b",
   "metadata": {},
   "outputs": [
    {
     "data": {
      "text/plain": [
       "[<a href=\"/machines?tag=Laser+Engraving+%26+Cutting\">#Laser Engraving &amp; Cutting</a>,\n",
       " <a href=\"/machines?tag=CNC+Milling\">#CNC Milling</a>,\n",
       " <a href=\"/machines?tag=3D+Printing\">#3D Printing</a>]"
      ]
     },
     "execution_count": 27,
     "metadata": {},
     "output_type": "execute_result"
    }
   ],
   "source": [
    "tag_data"
   ]
  },
  {
   "cell_type": "code",
   "execution_count": 36,
   "id": "3f584dd1",
   "metadata": {},
   "outputs": [],
   "source": [
    "tag_info = [content['href'][14:].replace(\"+\", \"_\").replace(\"_%26_\",\"_\") for content in tag_data if content['href'][:9] == '/machines']"
   ]
  },
  {
   "cell_type": "code",
   "execution_count": 37,
   "id": "9dc99516",
   "metadata": {},
   "outputs": [
    {
     "data": {
      "text/plain": [
       "['Laser_Engraving_Cutting', 'CNC_Milling', '3D_Printing']"
      ]
     },
     "execution_count": 37,
     "metadata": {},
     "output_type": "execute_result"
    }
   ],
   "source": [
    "tag_info"
   ]
  },
  {
   "cell_type": "code",
   "execution_count": null,
   "id": "ea984046",
   "metadata": {},
   "outputs": [],
   "source": []
  }
 ],
 "metadata": {
  "kernelspec": {
   "display_name": "Python 3 (ipykernel)",
   "language": "python",
   "name": "python3"
  },
  "language_info": {
   "codemirror_mode": {
    "name": "ipython",
    "version": 3
   },
   "file_extension": ".py",
   "mimetype": "text/x-python",
   "name": "python",
   "nbconvert_exporter": "python",
   "pygments_lexer": "ipython3",
   "version": "3.9.13"
  }
 },
 "nbformat": 4,
 "nbformat_minor": 5
}
