{
 "cells": [
  {
   "cell_type": "markdown",
   "id": "78bdd878",
   "metadata": {},
   "source": [
    "<img src=\"https://pbs.twimg.com/profile_images/1092394418135539713/eplLRcDN_400x400.jpg\" width=80px style=\"text-align:right\"><h1>The Internet of Production Alliance </h1>\n",
    "\n",
    "## Preliminary data report for the [Make Project](https://makeafricaeu.org/)\n"
   ]
  },
  {
   "cell_type": "markdown",
   "id": "f7aabf35",
   "metadata": {},
   "source": [
    "Autor: Antonio de Jesus Anaya Hernandez, DevOps eng. for the IoPA.\n",
    "\n",
    "Autor: The internet of Production Alliance, 2023.\n",
    "\n",
    "Data was collected by \"Fab Foundation\", location: https://api.fablabs.io/0/labs.json\n",
    "\n",
    "The Open Know Where (OKW) Standard is part of the Internet of Production Alliance and its members.\n",
    "\n",
    "License: CC BY SA\n",
    "\n",
    "![CC BY SA](https://mirrors.creativecommons.org/presskit/buttons/88x31/svg/by-sa.svg)"
   ]
  },
  {
   "cell_type": "markdown",
   "id": "a0554de8",
   "metadata": {},
   "source": [
    "Python code used to download, parse, filter, sort and map the data:"
   ]
  },
  {
   "cell_type": "code",
   "execution_count": 1,
   "id": "5e1dfebc",
   "metadata": {},
   "outputs": [],
   "source": [
    "import folium"
   ]
  },
  {
   "cell_type": "code",
   "execution_count": 2,
   "id": "bde3eccd",
   "metadata": {},
   "outputs": [],
   "source": [
    "from folium.plugins import HeatMap"
   ]
  },
  {
   "cell_type": "code",
   "execution_count": 3,
   "id": "cc1ffe8c",
   "metadata": {},
   "outputs": [],
   "source": [
    "import requests"
   ]
  },
  {
   "cell_type": "code",
   "execution_count": 4,
   "id": "ce4cda48",
   "metadata": {},
   "outputs": [],
   "source": [
    "import pandas as pd"
   ]
  },
  {
   "cell_type": "code",
   "execution_count": 5,
   "id": "b879ba7e",
   "metadata": {},
   "outputs": [],
   "source": [
    "import matplotlib.pyplot as plt"
   ]
  },
  {
   "cell_type": "code",
   "execution_count": 6,
   "id": "7242baa4",
   "metadata": {},
   "outputs": [],
   "source": [
    "url = \"https://api.fablabs.io/0/labs.json\"\n",
    "response = requests.get(url)\n",
    "data = response.json()"
   ]
  },
  {
   "cell_type": "code",
   "execution_count": 7,
   "id": "3c1d27e1",
   "metadata": {},
   "outputs": [],
   "source": [
    "df = pd.DataFrame(data)"
   ]
  },
  {
   "cell_type": "code",
   "execution_count": 8,
   "id": "361f8814",
   "metadata": {},
   "outputs": [],
   "source": [
    "df = df[df['activity_status'] == 'active']"
   ]
  },
  {
   "cell_type": "code",
   "execution_count": 9,
   "id": "301acdac",
   "metadata": {},
   "outputs": [],
   "source": [
    "df = df.drop(columns=['id', 'kind_name', 'parent_id', 'blurb', 'description', 'slug', 'avatar_url', 'header_url'])"
   ]
  },
  {
   "cell_type": "code",
   "execution_count": 10,
   "id": "b622406a",
   "metadata": {},
   "outputs": [],
   "source": [
    "african_countries = {\n",
    "    \"DZ\": \"Algeria\",\n",
    "    \"AO\": \"Angola\",\n",
    "    \"BJ\": \"Benin\",\n",
    "    \"BW\": \"Botswana\",\n",
    "    \"BF\": \"Burkina Faso\",\n",
    "    \"BI\": \"Burundi\",\n",
    "    \"CM\": \"Cameroon\",\n",
    "    \"CV\": \"Cape Verde\",\n",
    "    \"CF\": \"Central African Republic\",\n",
    "    \"TD\": \"Chad\",\n",
    "    \"KM\": \"Comoros\",\n",
    "    \"CG\": \"Congo\",\n",
    "    \"CD\": \"Democratic Republic of the Congo\",\n",
    "    \"CI\": \"Côte d'Ivoire\",\n",
    "    \"DJ\": \"Djibouti\",\n",
    "    \"EG\": \"Egypt\",\n",
    "    \"GQ\": \"Equatorial Guinea\",\n",
    "    \"ER\": \"Eritrea\",\n",
    "    \"ET\": \"Ethiopia\",\n",
    "    \"GA\": \"Gabon\",\n",
    "    \"GM\": \"Gambia\",\n",
    "    \"GH\": \"Ghana\",\n",
    "    \"GN\": \"Guinea\",\n",
    "    \"GW\": \"Guinea-Bissau\",\n",
    "    \"KE\": \"Kenya\",\n",
    "    \"LS\": \"Lesotho\",\n",
    "    \"LR\": \"Liberia\",\n",
    "    \"LY\": \"Libya\",\n",
    "    \"MG\": \"Madagascar\",\n",
    "    \"MW\": \"Malawi\",\n",
    "    \"ML\": \"Mali\",\n",
    "    \"MR\": \"Mauritania\",\n",
    "    \"MU\": \"Mauritius\",\n",
    "    \"YT\": \"Mayotte\",\n",
    "    \"MA\": \"Morocco\",\n",
    "    \"MZ\": \"Mozambique\",\n",
    "    \"NA\": \"Namibia\",\n",
    "    \"NE\": \"Niger\",\n",
    "    \"NG\": \"Nigeria\",\n",
    "    \"RW\": \"Rwanda\",\n",
    "    \"RE\": \"Réunion\",\n",
    "    \"SH\": \"Saint Helena\",\n",
    "    \"ST\": \"São Tomé and Principe\",\n",
    "    \"SN\": \"Senegal\",\n",
    "    \"SC\": \"Seychelles\",\n",
    "    \"SL\": \"Sierra Leone\",\n",
    "    \"SO\": \"Somalia\",\n",
    "    \"ZA\": \"South Africa\",\n",
    "    \"SS\": \"South Sudan\",\n",
    "    \"SD\": \"Sudan\",\n",
    "    \"SZ\": \"Swaziland\",\n",
    "    \"TZ\": \"Tanzania\",\n",
    "    \"TG\": \"Togo\",\n",
    "    \"TN\": \"Tunisia\",\n",
    "    \"UG\": \"Uganda\",\n",
    "    \"EH\": \"Western Sahara\",\n",
    "    \"ZM\": \"Zambia\",\n",
    "    \"ZW\": \"Zimbabwe\"\n",
    "}"
   ]
  },
  {
   "cell_type": "code",
   "execution_count": 11,
   "id": "59573e5c",
   "metadata": {},
   "outputs": [],
   "source": [
    "africa_codes = african_countries.keys()"
   ]
  },
  {
   "cell_type": "code",
   "execution_count": 12,
   "id": "b3b9d2be",
   "metadata": {},
   "outputs": [],
   "source": [
    "df = df[df['country_code'].isin(africa_codes)]"
   ]
  },
  {
   "cell_type": "code",
   "execution_count": 13,
   "id": "cc6ef005",
   "metadata": {},
   "outputs": [],
   "source": [
    "df = df[df['phone'].notna() & df['email'].notna() & (df['phone'] != '') & (df['email'] != '')]"
   ]
  },
  {
   "cell_type": "code",
   "execution_count": 14,
   "id": "447ac1b4",
   "metadata": {},
   "outputs": [],
   "source": [
    "df = df[df['latitude'].notna() & df['longitude'].notna() & (df['latitude'] != '') & (df['longitude'] != '')]"
   ]
  },
  {
   "cell_type": "code",
   "execution_count": 15,
   "id": "14227b7e",
   "metadata": {},
   "outputs": [],
   "source": [
    "df.to_csv('make_african_countries.csv', index=False)"
   ]
  },
  {
   "cell_type": "code",
   "execution_count": 16,
   "id": "79cb7e81",
   "metadata": {},
   "outputs": [],
   "source": [
    "avg_lat = df['latitude'].mean()\n",
    "avg_lon = df['longitude'].mean()\n",
    "map = folium.Map(location=[avg_lat, avg_lon], zoom_start=3)"
   ]
  },
  {
   "cell_type": "code",
   "execution_count": 27,
   "id": "0a87378e",
   "metadata": {},
   "outputs": [
    {
     "data": {
      "text/plain": [
       "<folium.plugins.heat_map.HeatMap at 0x1bcdae040d0>"
      ]
     },
     "execution_count": 27,
     "metadata": {},
     "output_type": "execute_result"
    }
   ],
   "source": [
    "HeatMap(data=df[['latitude', 'longitude']].values, radius=8, max_zoom=7).add_to(map)"
   ]
  },
  {
   "cell_type": "code",
   "execution_count": 18,
   "id": "a56fe61e",
   "metadata": {},
   "outputs": [
    {
     "data": {
      "text/html": [
       "<div style=\"width:100%;\"><div style=\"position:relative;width:100%;height:0;padding-bottom:60%;\"><span style=\"color:#565656\">Make this Notebook Trusted to load map: File -> Trust Notebook</span><iframe srcdoc=\"&lt;!DOCTYPE html&gt;\n",
       "&lt;html&gt;\n",
       "&lt;head&gt;\n",
       "    \n",
       "    &lt;meta http-equiv=&quot;content-type&quot; content=&quot;text/html; charset=UTF-8&quot; /&gt;\n",
       "    \n",
       "        &lt;script&gt;\n",
       "            L_NO_TOUCH = false;\n",
       "            L_DISABLE_3D = false;\n",
       "        &lt;/script&gt;\n",
       "    \n",
       "    &lt;style&gt;html, body {width: 100%;height: 100%;margin: 0;padding: 0;}&lt;/style&gt;\n",
       "    &lt;style&gt;#map {position:absolute;top:0;bottom:0;right:0;left:0;}&lt;/style&gt;\n",
       "    &lt;script src=&quot;https://cdn.jsdelivr.net/npm/leaflet@1.9.3/dist/leaflet.js&quot;&gt;&lt;/script&gt;\n",
       "    &lt;script src=&quot;https://code.jquery.com/jquery-1.12.4.min.js&quot;&gt;&lt;/script&gt;\n",
       "    &lt;script src=&quot;https://cdn.jsdelivr.net/npm/bootstrap@5.2.2/dist/js/bootstrap.bundle.min.js&quot;&gt;&lt;/script&gt;\n",
       "    &lt;script src=&quot;https://cdnjs.cloudflare.com/ajax/libs/Leaflet.awesome-markers/2.0.2/leaflet.awesome-markers.js&quot;&gt;&lt;/script&gt;\n",
       "    &lt;link rel=&quot;stylesheet&quot; href=&quot;https://cdn.jsdelivr.net/npm/leaflet@1.9.3/dist/leaflet.css&quot;/&gt;\n",
       "    &lt;link rel=&quot;stylesheet&quot; href=&quot;https://cdn.jsdelivr.net/npm/bootstrap@5.2.2/dist/css/bootstrap.min.css&quot;/&gt;\n",
       "    &lt;link rel=&quot;stylesheet&quot; href=&quot;https://netdna.bootstrapcdn.com/bootstrap/3.0.0/css/bootstrap.min.css&quot;/&gt;\n",
       "    &lt;link rel=&quot;stylesheet&quot; href=&quot;https://cdn.jsdelivr.net/npm/@fortawesome/fontawesome-free@6.2.0/css/all.min.css&quot;/&gt;\n",
       "    &lt;link rel=&quot;stylesheet&quot; href=&quot;https://cdnjs.cloudflare.com/ajax/libs/Leaflet.awesome-markers/2.0.2/leaflet.awesome-markers.css&quot;/&gt;\n",
       "    &lt;link rel=&quot;stylesheet&quot; href=&quot;https://cdn.jsdelivr.net/gh/python-visualization/folium/folium/templates/leaflet.awesome.rotate.min.css&quot;/&gt;\n",
       "    \n",
       "            &lt;meta name=&quot;viewport&quot; content=&quot;width=device-width,\n",
       "                initial-scale=1.0, maximum-scale=1.0, user-scalable=no&quot; /&gt;\n",
       "            &lt;style&gt;\n",
       "                #map_1226b2b4fa2d5015d37a43197970b449 {\n",
       "                    position: relative;\n",
       "                    width: 100.0%;\n",
       "                    height: 100.0%;\n",
       "                    left: 0.0%;\n",
       "                    top: 0.0%;\n",
       "                }\n",
       "                .leaflet-container { font-size: 1rem; }\n",
       "            &lt;/style&gt;\n",
       "        \n",
       "    &lt;script src=&quot;https://cdn.jsdelivr.net/gh/python-visualization/folium@main/folium/templates/leaflet_heat.min.js&quot;&gt;&lt;/script&gt;\n",
       "&lt;/head&gt;\n",
       "&lt;body&gt;\n",
       "    \n",
       "    \n",
       "            &lt;div class=&quot;folium-map&quot; id=&quot;map_1226b2b4fa2d5015d37a43197970b449&quot; &gt;&lt;/div&gt;\n",
       "        \n",
       "&lt;/body&gt;\n",
       "&lt;script&gt;\n",
       "    \n",
       "    \n",
       "            var map_1226b2b4fa2d5015d37a43197970b449 = L.map(\n",
       "                &quot;map_1226b2b4fa2d5015d37a43197970b449&quot;,\n",
       "                {\n",
       "                    center: [17.191885223603503, 19.573661770542337],\n",
       "                    crs: L.CRS.EPSG3857,\n",
       "                    zoom: 3,\n",
       "                    zoomControl: true,\n",
       "                    preferCanvas: false,\n",
       "                }\n",
       "            );\n",
       "\n",
       "            \n",
       "\n",
       "        \n",
       "    \n",
       "            var tile_layer_df0c92b87121e7ca126cdd6ac8861169 = L.tileLayer(\n",
       "                &quot;https://{s}.tile.openstreetmap.org/{z}/{x}/{y}.png&quot;,\n",
       "                {&quot;attribution&quot;: &quot;Data by \\u0026copy; \\u003ca target=\\&quot;_blank\\&quot; href=\\&quot;http://openstreetmap.org\\&quot;\\u003eOpenStreetMap\\u003c/a\\u003e, under \\u003ca target=\\&quot;_blank\\&quot; href=\\&quot;http://www.openstreetmap.org/copyright\\&quot;\\u003eODbL\\u003c/a\\u003e.&quot;, &quot;detectRetina&quot;: false, &quot;maxNativeZoom&quot;: 18, &quot;maxZoom&quot;: 18, &quot;minZoom&quot;: 0, &quot;noWrap&quot;: false, &quot;opacity&quot;: 1, &quot;subdomains&quot;: &quot;abc&quot;, &quot;tms&quot;: false}\n",
       "            ).addTo(map_1226b2b4fa2d5015d37a43197970b449);\n",
       "        \n",
       "    \n",
       "            var heat_map_c6c07fd67cbe681ffb8f094daac38b84 = L.heatLayer(\n",
       "                [[3.8577597, 11.5070915], [29.066135, 31.099421], [7.3228734, 3.78803489999996], [-21.2328589, 55.5786829], [30.0191611823412, 31.4985885436492], [30.2283182, 31.4798657], [-1.3020349, 36.8379325], [32.0793196, 20.0710884], [29.9636527382043, 31.311387299128], [-18.9107003, 47.5429812], [-4.3117345, 15.3036025], [36.8291943, 10.142301], [14.734918, -17.4499404000001], [28.1006937031076, 30.7526128463348], [5.35674115895547, -3.92523078922425], [34.2562785, -6.58140660000004], [6.3736274, 2.4258254], [36.8346907, 10.2426448], [30.7326853, 31.7195647], [4.33884186936748, 11.4374646240234], [30.7709949, 31.0183497], [12.5751057, -7.94843790000004], [-1.9444501, 30.0896764], [-20.9040158, 55.4993409], [11.5391458, 43.114056], [30.2283408, 31.4798948], [5.11839380028521, 7.36911204127807], [-26.188017, 28.0170951], [9.0902694, 7.46959749999996], [30.9010214, 29.5516077], [30.025623, 31.4594529], [31.1061428, 30.9407138], [30.4390852, 30.9671759], [33.9677612, -6.8778926], [12.3529618, -1.50550129999999], [30.6214053807067, 32.2288652208435], [12.1233001, 15.0504106], [32.0793436, 20.0710968], [27.1965514, 31.0764842999999], [27.2905548, 33.7311253], [14.7910052, -16.9358604], [36.8310562, 10.187772], [33.5413023, -7.67090080000003], [10.5104642, 7.4165053], [-0.0768085, 34.7925762], [4.0473476, 9.6939474], [32.8798255, 13.2142083], [29.9592179, 31.2527818]],\n",
       "                {&quot;blur&quot;: 15, &quot;maxZoom&quot;: 7, &quot;minOpacity&quot;: 0.5, &quot;radius&quot;: 8}\n",
       "            ).addTo(map_1226b2b4fa2d5015d37a43197970b449);\n",
       "        \n",
       "&lt;/script&gt;\n",
       "&lt;/html&gt;\" style=\"position:absolute;width:100%;height:100%;left:0;top:0;border:none !important;\" allowfullscreen webkitallowfullscreen mozallowfullscreen></iframe></div></div>"
      ],
      "text/plain": [
       "<folium.folium.Map at 0x1bcdfe42eb0>"
      ]
     },
     "execution_count": 18,
     "metadata": {},
     "output_type": "execute_result"
    }
   ],
   "source": [
    "map"
   ]
  },
  {
   "cell_type": "code",
   "execution_count": 20,
   "id": "0d97a137",
   "metadata": {},
   "outputs": [],
   "source": [
    "df['country_name'] = df['country_code'].map(african_countries)"
   ]
  },
  {
   "cell_type": "code",
   "execution_count": 21,
   "id": "c87c6be7",
   "metadata": {},
   "outputs": [],
   "source": [
    "result = df.groupby('country_name').size().sort_values(ascending=True)"
   ]
  },
  {
   "cell_type": "code",
   "execution_count": 22,
   "id": "3f7c18a5",
   "metadata": {},
   "outputs": [
    {
     "data": {
      "text/plain": [
       "Text(0, 0.5, 'Country')"
      ]
     },
     "execution_count": 22,
     "metadata": {},
     "output_type": "execute_result"
    },
    {
     "data": {
      "image/png": "[encoded data removed]",
      "text/plain": [
       "<Figure size 1080x864 with 1 Axes>"
      ]
     },
     "metadata": {
      "needs_background": "light"
     },
     "output_type": "display_data"
    }
   ],
   "source": [
    "result.plot(kind='barh', rot=0, width=0.3, align='center', figsize=(15,12))\n",
    "plt.xlabel(\"count\")\n",
    "plt.ylabel(\"Country\")"
   ]
  },
  {
   "cell_type": "code",
   "execution_count": 23,
   "id": "51e25727",
   "metadata": {},
   "outputs": [
    {
     "data": {
      "text/plain": [
       "country_name\n",
       "Benin                                1\n",
       "Burkina Faso                         1\n",
       "Chad                                 1\n",
       "Côte d'Ivoire                        1\n",
       "Democratic Republic of the Congo     1\n",
       "Djibouti                             1\n",
       "South Africa                         1\n",
       "Madagascar                           1\n",
       "Mali                                 1\n",
       "Rwanda                               1\n",
       "Senegal                              2\n",
       "Réunion                              2\n",
       "Kenya                                2\n",
       "Libya                                3\n",
       "Morocco                              3\n",
       "Cameroon                             3\n",
       "Tunisia                              3\n",
       "Nigeria                              4\n",
       "Egypt                               16\n",
       "dtype: int64"
      ]
     },
     "execution_count": 23,
     "metadata": {},
     "output_type": "execute_result"
    }
   ],
   "source": [
    "result"
   ]
  },
  {
   "cell_type": "code",
   "execution_count": 24,
   "id": "3a103c23",
   "metadata": {},
   "outputs": [
    {
     "name": "stdout",
     "output_type": "stream",
     "text": [
      "Countries:\t19 \n",
      "Total fablabs:\t48\n"
     ]
    }
   ],
   "source": [
    "print(\"Countries:\\t\" + str(result.shape[0]) + \" \\nTotal fablabs:\\t\" + str(result.sum()))"
   ]
  },
  {
   "cell_type": "code",
   "execution_count": null,
   "id": "02b0874b",
   "metadata": {},
   "outputs": [],
   "source": []
  }
 ],
 "metadata": {
  "kernelspec": {
   "display_name": "Python 3 (ipykernel)",
   "language": "python",
   "name": "python3"
  },
  "language_info": {
   "codemirror_mode": {
    "name": "ipython",
    "version": 3
   },
   "file_extension": ".py",
   "mimetype": "text/x-python",
   "name": "python",
   "nbconvert_exporter": "python",
   "pygments_lexer": "ipython3",
   "version": "3.9.13"
  }
 },
 "nbformat": 4,
 "nbformat_minor": 5
}
