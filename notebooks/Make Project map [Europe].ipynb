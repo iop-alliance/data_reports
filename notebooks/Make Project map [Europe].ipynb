{
 "cells": [
  {
   "cell_type": "markdown",
   "id": "78bdd878",
   "metadata": {},
   "source": [
    "<img src=\"https://pbs.twimg.com/profile_images/1092394418135539713/eplLRcDN_400x400.jpg\" width=80px style=\"text-align:right\"><h1>The Internet of Production Alliance </h1>\n",
    "\n",
    "## Preliminary data report for the [Make Project](https://makeafricaeu.org/)\n"
   ]
  },
  {
   "cell_type": "markdown",
   "id": "f7aabf35",
   "metadata": {},
   "source": [
    "Autor: Antonio de Jesus Anaya Hernandez, DevOps eng. for the IoPA.\n",
    "\n",
    "Autor: The internet of Production Alliance, 2023.\n",
    "\n",
    "Data was collected by \"Fab Foundation\", location: https://api.fablabs.io/0/labs.json\n",
    "\n",
    "The Open Know Where (OKW) Standard is part of the Internet of Production Alliance and its members.\n",
    "\n",
    "License: CC BY SA\n",
    "\n",
    "![CC BY SA](https://mirrors.creativecommons.org/presskit/buttons/88x31/svg/by-sa.svg)"
   ]
  },
  {
   "cell_type": "markdown",
   "id": "a0554de8",
   "metadata": {},
   "source": [
    "Python code used to download, parse, filter, sort and map the data:"
   ]
  },
  {
   "cell_type": "code",
   "execution_count": 1,
   "id": "5e1dfebc",
   "metadata": {},
   "outputs": [],
   "source": [
    "import folium"
   ]
  },
  {
   "cell_type": "code",
   "execution_count": 2,
   "id": "bde3eccd",
   "metadata": {},
   "outputs": [],
   "source": [
    "from folium.plugins import HeatMap"
   ]
  },
  {
   "cell_type": "code",
   "execution_count": 3,
   "id": "cc1ffe8c",
   "metadata": {},
   "outputs": [],
   "source": [
    "import requests"
   ]
  },
  {
   "cell_type": "code",
   "execution_count": 4,
   "id": "ce4cda48",
   "metadata": {},
   "outputs": [],
   "source": [
    "import pandas as pd"
   ]
  },
  {
   "cell_type": "code",
   "execution_count": 5,
   "id": "b879ba7e",
   "metadata": {},
   "outputs": [],
   "source": [
    "import matplotlib.pyplot as plt"
   ]
  },
  {
   "cell_type": "code",
   "execution_count": 6,
   "id": "c2a8cf6c",
   "metadata": {},
   "outputs": [],
   "source": [
    "import numpy as np"
   ]
  },
  {
   "cell_type": "code",
   "execution_count": 7,
   "id": "7242baa4",
   "metadata": {},
   "outputs": [],
   "source": [
    "url = \"https://api.fablabs.io/0/labs.json\"\n",
    "response = requests.get(url)\n",
    "data = response.json()"
   ]
  },
  {
   "cell_type": "code",
   "execution_count": 8,
   "id": "3c1d27e1",
   "metadata": {},
   "outputs": [],
   "source": [
    "df = pd.DataFrame(data)"
   ]
  },
  {
   "cell_type": "code",
   "execution_count": 9,
   "id": "361f8814",
   "metadata": {},
   "outputs": [],
   "source": [
    "df = df[df['activity_status'] == 'active']"
   ]
  },
  {
   "cell_type": "code",
   "execution_count": 10,
   "id": "301acdac",
   "metadata": {},
   "outputs": [],
   "source": [
    "df = df.drop(columns=['id', 'kind_name', 'parent_id', 'blurb', 'description', 'slug', 'avatar_url', 'header_url'])"
   ]
  },
  {
   "cell_type": "code",
   "execution_count": 11,
   "id": "b622406a",
   "metadata": {},
   "outputs": [],
   "source": [
    "european_countries = {\n",
    "    'AT': 'Austria',\n",
    "    'BE': 'Belgium',\n",
    "    'BG': 'Bulgaria',\n",
    "    'CY': 'Cyprus',\n",
    "    'CZ': 'Czech Republic',\n",
    "    'DK': 'Denmark',\n",
    "    'EE': 'Estonia',\n",
    "    'FI': 'Finland',\n",
    "    'FR': 'France',\n",
    "    'DE': 'Germany',\n",
    "    'GR': 'Greece',\n",
    "    'HU': 'Hungary',\n",
    "    'IS': 'Iceland',\n",
    "    'IE': 'Ireland',\n",
    "    'IT': 'Italy',\n",
    "    'LV': 'Latvia',\n",
    "    'LI': 'Liechtenstein',\n",
    "    'LT': 'Lithuania',\n",
    "    'LU': 'Luxembourg',\n",
    "    'MT': 'Malta',\n",
    "    'MC': 'Monaco',\n",
    "    'NL': 'Netherlands',\n",
    "    'NO': 'Norway',\n",
    "    'PL': 'Poland',\n",
    "    'PT': 'Portugal',\n",
    "    'RO': 'Romania',\n",
    "    'SK': 'Slovakia',\n",
    "    'SI': 'Slovenia',\n",
    "    'ES': 'Spain',\n",
    "    'SE': 'Sweden',\n",
    "    'CH': 'Switzerland',\n",
    "    'GB': 'United Kingdom',\n",
    "    'VA': 'Vatican City'\n",
    "}"
   ]
  },
  {
   "cell_type": "code",
   "execution_count": 12,
   "id": "59573e5c",
   "metadata": {},
   "outputs": [],
   "source": [
    "europe_codes = european_countries.keys()"
   ]
  },
  {
   "cell_type": "code",
   "execution_count": 13,
   "id": "2d34265c",
   "metadata": {},
   "outputs": [],
   "source": [
    "pd.DataFrame(df).sort_values('name', ascending=True).to_excel('fablabs.xlsx')"
   ]
  },
  {
   "cell_type": "code",
   "execution_count": 14,
   "id": "b3b9d2be",
   "metadata": {},
   "outputs": [],
   "source": [
    "df = df[df['country_code'].isin(europe_codes)]"
   ]
  },
  {
   "cell_type": "code",
   "execution_count": 15,
   "id": "cc6ef005",
   "metadata": {},
   "outputs": [],
   "source": [
    "df = df[df['phone'].notna() & df['email'].notna() & (df['phone'] != '') & (df['email'] != '')]"
   ]
  },
  {
   "cell_type": "code",
   "execution_count": 16,
   "id": "447ac1b4",
   "metadata": {},
   "outputs": [],
   "source": [
    "df = df[df['latitude'].notna() & df['longitude'].notna() & (df['latitude'] != '') & (df['longitude'] != '')]"
   ]
  },
  {
   "cell_type": "code",
   "execution_count": 17,
   "id": "14227b7e",
   "metadata": {},
   "outputs": [],
   "source": [
    "df.to_csv('make_european_countries.csv', index=False)"
   ]
  },
  {
   "cell_type": "code",
   "execution_count": 18,
   "id": "79cb7e81",
   "metadata": {},
   "outputs": [],
   "source": [
    "avg_lat = df['latitude'].mean()\n",
    "avg_lon = df['longitude'].mean()\n",
    "map = folium.Map(location=[avg_lat, avg_lon], zoom_start=3)"
   ]
  },
  {
   "cell_type": "code",
   "execution_count": 19,
   "id": "0a87378e",
   "metadata": {},
   "outputs": [
    {
     "data": {
      "text/plain": [
       "<folium.plugins.heat_map.HeatMap at 0x1a819cc1eb0>"
      ]
     },
     "execution_count": 19,
     "metadata": {},
     "output_type": "execute_result"
    }
   ],
   "source": [
    "HeatMap(data=df[['latitude', 'longitude']].values, radius=8, max_zoom=8).add_to(map)"
   ]
  },
  {
   "cell_type": "code",
   "execution_count": 20,
   "id": "a56fe61e",
   "metadata": {},
   "outputs": [
    {
     "data": {
      "text/html": [
       "<div style=\"width:100%;\"><div style=\"position:relative;width:100%;height:0;padding-bottom:60%;\"><span style=\"color:#565656\">Make this Notebook Trusted to load map: File -> Trust Notebook</span><iframe srcdoc=\"&lt;!DOCTYPE html&gt;\n",
       "&lt;html&gt;\n",
       "&lt;head&gt;\n",
       "    \n",
       "    &lt;meta http-equiv=&quot;content-type&quot; content=&quot;text/html; charset=UTF-8&quot; /&gt;\n",
       "    \n",
       "        &lt;script&gt;\n",
       "            L_NO_TOUCH = false;\n",
       "            L_DISABLE_3D = false;\n",
       "        &lt;/script&gt;\n",
       "    \n",
       "    &lt;style&gt;html, body {width: 100%;height: 100%;margin: 0;padding: 0;}&lt;/style&gt;\n",
       "    &lt;style&gt;#map {position:absolute;top:0;bottom:0;right:0;left:0;}&lt;/style&gt;\n",
       "    &lt;script src=&quot;https://cdn.jsdelivr.net/npm/leaflet@1.9.3/dist/leaflet.js&quot;&gt;&lt;/script&gt;\n",
       "    &lt;script src=&quot;https://code.jquery.com/jquery-1.12.4.min.js&quot;&gt;&lt;/script&gt;\n",
       "    &lt;script src=&quot;https://cdn.jsdelivr.net/npm/bootstrap@5.2.2/dist/js/bootstrap.bundle.min.js&quot;&gt;&lt;/script&gt;\n",
       "    &lt;script src=&quot;https://cdnjs.cloudflare.com/ajax/libs/Leaflet.awesome-markers/2.0.2/leaflet.awesome-markers.js&quot;&gt;&lt;/script&gt;\n",
       "    &lt;link rel=&quot;stylesheet&quot; href=&quot;https://cdn.jsdelivr.net/npm/leaflet@1.9.3/dist/leaflet.css&quot;/&gt;\n",
       "    &lt;link rel=&quot;stylesheet&quot; href=&quot;https://cdn.jsdelivr.net/npm/bootstrap@5.2.2/dist/css/bootstrap.min.css&quot;/&gt;\n",
       "    &lt;link rel=&quot;stylesheet&quot; href=&quot;https://netdna.bootstrapcdn.com/bootstrap/3.0.0/css/bootstrap.min.css&quot;/&gt;\n",
       "    &lt;link rel=&quot;stylesheet&quot; href=&quot;https://cdn.jsdelivr.net/npm/@fortawesome/fontawesome-free@6.2.0/css/all.min.css&quot;/&gt;\n",
       "    &lt;link rel=&quot;stylesheet&quot; href=&quot;https://cdnjs.cloudflare.com/ajax/libs/Leaflet.awesome-markers/2.0.2/leaflet.awesome-markers.css&quot;/&gt;\n",
       "    &lt;link rel=&quot;stylesheet&quot; href=&quot;https://cdn.jsdelivr.net/gh/python-visualization/folium/folium/templates/leaflet.awesome.rotate.min.css&quot;/&gt;\n",
       "    \n",
       "            &lt;meta name=&quot;viewport&quot; content=&quot;width=device-width,\n",
       "                initial-scale=1.0, maximum-scale=1.0, user-scalable=no&quot; /&gt;\n",
       "            &lt;style&gt;\n",
       "                #map_f322ae4717fd7964aec0e70bd64dbb4b {\n",
       "                    position: relative;\n",
       "                    width: 100.0%;\n",
       "                    height: 100.0%;\n",
       "                    left: 0.0%;\n",
       "                    top: 0.0%;\n",
       "                }\n",
       "                .leaflet-container { font-size: 1rem; }\n",
       "            &lt;/style&gt;\n",
       "        \n",
       "    &lt;script src=&quot;https://cdn.jsdelivr.net/gh/python-visualization/folium@main/folium/templates/leaflet_heat.min.js&quot;&gt;&lt;/script&gt;\n",
       "&lt;/head&gt;\n",
       "&lt;body&gt;\n",
       "    \n",
       "    \n",
       "            &lt;div class=&quot;folium-map&quot; id=&quot;map_f322ae4717fd7964aec0e70bd64dbb4b&quot; &gt;&lt;/div&gt;\n",
       "        \n",
       "&lt;/body&gt;\n",
       "&lt;script&gt;\n",
       "    \n",
       "    \n",
       "            var map_f322ae4717fd7964aec0e70bd64dbb4b = L.map(\n",
       "                &quot;map_f322ae4717fd7964aec0e70bd64dbb4b&quot;,\n",
       "                {\n",
       "                    center: [47.04047508608414, 6.222362391418178],\n",
       "                    crs: L.CRS.EPSG3857,\n",
       "                    zoom: 3,\n",
       "                    zoomControl: true,\n",
       "                    preferCanvas: false,\n",
       "                }\n",
       "            );\n",
       "\n",
       "            \n",
       "\n",
       "        \n",
       "    \n",
       "            var tile_layer_58bcb1dcddca76f566f36de1c72246d9 = L.tileLayer(\n",
       "                &quot;https://{s}.tile.openstreetmap.org/{z}/{x}/{y}.png&quot;,\n",
       "                {&quot;attribution&quot;: &quot;Data by \\u0026copy; \\u003ca target=\\&quot;_blank\\&quot; href=\\&quot;http://openstreetmap.org\\&quot;\\u003eOpenStreetMap\\u003c/a\\u003e, under \\u003ca target=\\&quot;_blank\\&quot; href=\\&quot;http://www.openstreetmap.org/copyright\\&quot;\\u003eODbL\\u003c/a\\u003e.&quot;, &quot;detectRetina&quot;: false, &quot;maxNativeZoom&quot;: 18, &quot;maxZoom&quot;: 18, &quot;minZoom&quot;: 0, &quot;noWrap&quot;: false, &quot;opacity&quot;: 1, &quot;subdomains&quot;: &quot;abc&quot;, &quot;tms&quot;: false}\n",
       "            ).addTo(map_f322ae4717fd7964aec0e70bd64dbb4b);\n",
       "        \n",
       "    \n",
       "            var heat_map_5458ec96da65b69768db77302657336b = L.heatLayer(\n",
       "                [[49.181016, -0.347539], [45.5661686, 5.92676759999995], [48.8878506, 2.38275279999993], [47.3810008, 15.0962603], [50.8551302, 4.34241989999998], [51.0504088, 13.7372621], [49.0056598, 8.4295895], [53.7488931, -2.48277680000001], [52.2347069, 20.9991314], [38.0030486, 23.8301386], [47.2255555, -1.5376241], [50.861011, 4.68165599999998], [41.1620126, -8.63733760000002], [41.4670863, 2.09194170000001], [53.5688308, 10.1073851], [42.1306636558279, 24.7049189187439], [43.719943, -1.0519597], [48.3997601, -4.4969247], [48.8377778, 2.58685579999997], [52.0220908, 5.6612347], [49.0408992, 3.39949879999995], [56.663479, 12.8792976], [41.2760021, 1.9887942], [41.1193193, 16.6750988], [44.8028846, -0.546448], [41.1523109, -8.6024109], [48.7117632, 2.1683098], [44.8579012, 1.89569019999999], [41.3966593, 2.1944287], [53.4050929, -2.9703196], [43.7487155, -1.32567730000005], [44.050188, 5.044427], [51.5324093, -0.0561050999999679], [39.8145942056794, -7.50716284955138], [44.4705138, 11.1008631], [50.463751, 4.85115799999994], [45.194181, 5.77019940000002], [41.964667, 12.7610082], [41.6627809, -4.70536459999994], [48.8958829, 2.23639000000003], [41.6406306, 13.3480333], [37.362274, -5.9866796], [43.85626, 12.8217099999999], [51.9244201, 4.4777325], [54.2458584757054, -8.29321664268798], [40.3476253, -3.6962689], [52.2155005, 5.9584261], [49.8921395, 2.30871830000001], [43.5510051, 1.48827649999998], [41.9007003, 12.4689874], [48.8378142, 2.30475569999999], [46.0357017, 8.96615499999996], [44.555452, 7.73654299999998], [64.1058634, -21.8178085], [45.4379769, 9.2320264], [54.9057755, -1.39069730000006], [47.3932037, 0.668742100000031], [47.4786118, -0.563716500000055], [55.6609769, 12.5184027], [46.7886368, 4.8353631], [49.4974627, 0.124160899999993], [48.8547646, 2.38999190000004], [37.8382269, -0.793731799999932], [52.372773, 4.900313], [47.0043, 7.106496], [43.5703224, 1.46792049999999], [46.3555848, 6.42613240000003], [38.8841862, -7.0030056], [41.8675865, 12.4789488], [42.4617943, 14.2160961], [39.0917249, -9.25944070000003], [49.962135, 11.6176954], [39.5425326, 2.7411535], [45.8990212, 6.1301951], [44.3532657, 11.6932167], [44.099136, 3.07963399999994], [45.572144, 8.639177], [40.6323636, 16.2834921], [48.0831252, 16.2997655], [40.9356228191842, 9.52202296826169], [55.5048559, 9.72925429999998], [47.7004532, 6.6384034], [60.4718809, 22.0359684], [48.1882792, 16.3467838], [54.9039245, 23.9577839999999], [47.9580592, -1.4980106], [48.0033603, -1.4750607], [43.27143, -2.9379], [38.5475368, -7.9106926], [46.8069836, 7.17751929999997], [46.2206964, 6.1470595], [51.5248683412606, 0.113991688360611], [45.9742246, 4.13095010000006], [51.9863475, 5.668019], [48.6936291, 6.19918580000001], [66.0740632, -23.1348744], [53.8348764, 10.697449], [37.6017217069246, -0.979470906676511], [37.3132279, 13.5791935], [41.4468819, 2.13042700000005], [49.3871636739328, 2.39922454486077], [51.7009229, -4.92598670000007], [46.2307556, 7.3628277], [44.0548918, 5.0459544], [47.4943079, 8.71653679999997], [45.0500697, 7.66823249999993], [52.0350691, 5.16380359999994], [51.4464832, 21.9749666], [51.9462803, 15.5225983], [52.6659011, -8.623945], [54.6952986, 25.3087598], [46.2105583, 6.14129070000001], [48.8520514, 2.2861234], [42.6318201, 23.3666301000001], [48.8059678, 6.7129781], [51.9606649, 7.62613469999997], [44.737572, 1.38448399999993], [53.5158159, 9.9825016], [55.714257, 9.530883], [40.9528852, -4.11883639999996], [37.79989, 12.43166], [65.6718188, -18.1016929], [45.1975644, 5.73215149999999], [50.842158, -0.121241], [53.2142464, 6.56949989999998], [46.8030044, 5.4518576], [43.6150758, 3.91048449999994], [49.232979, 16.5728822], [45.989992, 12.297197], [49.3783523, 10.1780482], [41.4243501, 2.18887419999999], [47.2869068, 11.5923722], [38.746159, -9.1953072], [51.5912243, 7.54800709999995], [41.8902128, 12.5178782], [45.7941768882099, 3.07560368849943], [38.7221945, -9.13211509999996], [51.0502902, 3.6572869], [38.678593, -6.4194992], [46.4784554, 11.3325093], [65.1485819889352, -13.6802057709167], [41.0427122, 14.3815326], [50.6639627, 4.62279109999997], [41.99011, 12.4805200000001], [41.564098, 2.0223163], [50.7784761, 6.05993860000001], [49.4082244, 8.6466019], [54.5018355, -8.19327829999997], [44.7282886, 5.02355469999998], [43.3570594, -5.8714434], [48.1224222, 11.5548237], [38.10298, 13.32699], [41.181902, 14.189432], [48.0427657, 14.4164562999999], [65.7416349296638, -19.6406055251313], [45.990862, 12.3024349], [50.3737498, 3.51784799999996], [50.643826, 5.57417699999996], [39.6622594, 20.8584292], [48.7317261, -3.45097639999994], [45.7095387, 11.3749731], [48.3500635914911, -1.19428340203854], [55.6532092, 12.1385729], [40.4054093, -3.70060790000002], [50.8459179, -0.1186937], [55.22409, 11.748659], [56.6624616, 12.8814334], [40.7108488, 0.580083999999943], [52.3245, 17.56506], [55.0284484047545, -7.31648195217588], [40.564744, 22.976635], [48.7135190390536, 2.21247780422971], [55.4035443, 10.3798612000001], [42.6110431, -5.597821], [63.4356322, -20.2703112], [37.1954906, -3.62685639999995], [37.9942534, 23.7218078999999], [41.46366, 12.90553], [46.259543, 6.10779], [37.8311427, -8.2454773], [50.9245724, 3.97842850000006], [49.6214417, 6.1262398], [54.9963542650962, -7.32279861957409], [58.2182528, 7.9086056], [52.0919506, 5.12657669999999], [50.8709335477548, 4.34988943862299], [51.6722925, 7.80712889999995], [37.987123, 23.7318634], [50.8448479, 4.3244985], [43.617413, 13.373433], [40.84431, 14.25566], [40.3724591, -3.920786], [41.6309956, 15.91279], [40.0675612, -2.1333435], [60.1889855, 24.8332643], [47.5667651, 7.644421], [44.2364488, 1.77201430000002], [44.4122079, 8.9369054], [49.4641028, 2.0741084], [42.3314327440685, -7.86616437301632], [39.610052, 20.9037682000001], [51.2189646, 4.40835279999999], [51.5564391, 0.504909], [41.1106239, 16.8756461], [43.3119185, -2.01028539999993], [40.8643118, 14.1752802], [40.3519331, 18.1709729], [44.5383799, 10.80877], [53.1935083, 5.84536500000002], [50.8403436, 5.66907939999999], [47.1035765, 6.8328658], [38.228864753086, 15.6374498540019], [44.048375, 12.5829968619018], [52.3739569, 4.91450580000003], [62.4723462, 6.2331459], [45.4727364, 12.2534679], [41.4093559, 13.0397318], [52.2202179, 6.88862670000003], [41.3154869, 2.01425340000003], [45.6919511, 12.2479625999999], [48.8529812, 2.43049619999999], [43.6017406, 1.4429481], [65.367553, 25.8200531], [43.579529, 7.12076049999996], [43.4131682, 1.39033599999993], [39.2876791, 9.01284950000002], [47.7418063, -3.4073229], [45.5068396, 9.2283954], [48.7830052, 2.1759162], [57.1465936, -2.10150699999997], [47.1568677, 27.5997049], [53.1418304, 6.43638529999998], [36.7002151, -4.43925979999995], [50.8223729297463, 4.38669124816283], [48.3994541, -4.47226060000003], [44.0340534, 5.04259669999999], [52.0919407, 4.36084289999997], [44.608288, 2.032871], [43.6078864, 1.47122839999997], [52.2515855, 6.15947180000001], [39.2434829, 9.12109810000004], [65.0326959, 26.0595020000001], [51.4962879, 3.61570729999994], [45.4482823, 9.22189609999998], [38.1969202, 15.5554965], [44.0492801, 2.13470069999994], [52.3941887, 13.072691], [40.1371015858197, -7.501842161377], [47.79302, 12.4129800000001], [35.1740495, 33.3613559], [52.4922762, 13.4512085], [46.56993, 3.32734970000001], [35.3389097843866, 33.3252099330749], [45.502717, 9.15300000000002], [47.507753, 19.0623101], [48.4442477, 2.60536930000001], [47.1814121, 8.52388210000004], [45.761148, 11.760367], [48.8793048, 2.39210760000003], [45.4116373, 11.9176237], [39.5010896, -0.354898999999932], [47.8180577, 6.38911840000003], [40.716899, 8.567576], [50.4460343, 3.95602389999999], [50.8264983, 4.37292890000003], [47.0478641, -0.868494999999939], [47.74235, 7.33944359999998], [50.3748454, -4.13706560000003], [46.522526, 5.61296500000003], [61.4498639, 23.8591299], [45.4500739, 9.18008580000003], [37.1615658, -8.76995940000006], [46.6778279, 5.57137990000001], [51.5272464, 6.92734480000001], [43.4587, -3.82383000000004], [47.2193769, 5.97388569999998], [43.1827025, 2.97870139999998], [46.515557, 0.336855000000014], [43.582492, 13.386812], [46.1096219, 12.1106082], [45.7043138, 13.7198258], [41.8658765, 12.4878972], [45.0749292, 7.68116759999998], [40.4532836, -3.71902699999998], [51.0534762, 3.73096899999996], [43.9343814, 4.80147729999999], [49.51109, 10.8798899999999], [40.4767375, 17.2265307], [54.769851, 11.87029], [52.4176316, 16.9042508], [43.44749, -7.85266000000001], [44.3895792, 7.54169430000002], [51.2189646, 4.40835279999999], [50.8329032, 4.3785979], [35.8986754, 14.5081944], [49.8783676, 8.65039909999996], [47.7506758, 11.7378453], [45.9505412, 12.5050012], [53.3157219614736, -6.64302122908325], [38.1089529, 15.6486666], [46.7764133, 4.84666830000003], [46.9222584, -0.9626148], [48.8475701, 2.35673499999996], [48.757052, 1.94400100000007], [44.4150812, 12.1378781999999], [46.3840365, 6.2157144], [38.6637508, -9.20574850000003], [45.6872527, 9.6742087], [45.8965155, 12.3020426], [46.1506446, 12.7159831], [59.4358127, 10.6629284000001], [65.0592255, 25.4696931], [51.0463491, 13.7154512], [45.8285789, 11.8599568], [46.5702164, 3.32798230000003], [48.1288556, 11.6022462], [49.233128, 16.572372], [28.46465, -16.29889], [37.9852112, 23.7634495], [42.7200759, 2.88711509999996], [52.0083208, 4.36106859999995], [50.8421114, 12.9392798], [50.8342142, 4.3274958], [45.3100093, 5.88756179999996], [48.2686397, 11.6651295], [43.942815, 10.9341], [38.1452981, 13.3553091], [41.7959742, -6.76756150000006], [51.4964180314795, -0.0629477904296891], [36.7051650541912, -6.1227363841308], [46.0625724, 11.1146080999999], [52.273017, 10.5349828], [55.7004888, 12.5298248], [46.0508939, 14.5163501], [40.4035325, -3.6945753], [43.8930798, 8.0405015], [40.7344582, 8.56059260000006], [48.5500096, -1.75607439999999], [51.2508723, 6.7896557], [48.1445678, 17.1116631], [40.3905831, -3.72906130000001], [47.2170427, -0.727537799999936], [52.3189309, 13.6289017], [41.8385803, 12.8308946], [44.9060847, 4.4232115], [41.91588, 12.47415], [59.9253697, 10.7622281], [43.0752475, 12.3264598000001], [43.4964045, 5.34238970000001], [53.5570403, 9.96123399999999], [47.059316, 15.4642219], [42.2102216, 2.20297679999999], [43.920103, 2.18144499999994], [50.066067, 19.943334], [41.6430596, -4.73333579999996], [41.975406, 2.81845699999997], [45.6049287, 10.4594012], [42.2206454, 14.3909132], [42.2356602, -8.71553], [43.525157, 3.92601530000002], [52.9467182814627, -8.03676629638676], [45.7910937, 3.1050118], [56.0523912598213, 9.94959150793454], [43.833061, 5.7826657], [48.6136108, 2.5383424], [51.026798, 2.36943040000006], [39.5982449, -8.81884790000004], [43.3263397, 5.3664609], [50.109052, 14.4370862000001], [37.0684625, 25.2601015], [50.8755495, 8.0194537], [43.8620854, 11.5308833], [41.425879, 2.18202829999996], [45.523335, 11.0181314], [54.3406677, 18.6478481], [46.6140882, 14.2665806], [46.2210599, -0.145670399999972], [44.4069238260011, 26.204997769867], [64.2555579, -15.208859], [63.932178, -20.9975469999999], [44.6407168, 11.1856745], [50.6980441316305, 7.14502272707215], [51.49997, 6.54533000000004], [49.5742074963961, 11.0298615460327], [40.6323576, 16.2835037], [51.4028909, 21.141641], [41.2882059, 13.2526909], [45.25948, 5.77706000000001], [43.8211644, 4.368281], [49.4376404, 10.9924667], [48.1493658, 17.0733494], [53.2311825, 10.4044076], [46.2490077, 3.6352048], [54.8531682, 10.5217913], [45.69408653635, 4.93603337190248], [49.2371824, 9.3361199], [45.1839654, 0.6584289], [51.3201505, 4.9518686], [48.114219, 4.3733625], [46.4978113, 11.3484667], [39.478698, -6.3415749], [48.8764481, 2.3035808], [47.8835598, -3.9156014], [42.3546600686086, 13.4137497645912]],\n",
       "                {&quot;blur&quot;: 15, &quot;maxZoom&quot;: 8, &quot;minOpacity&quot;: 0.5, &quot;radius&quot;: 8}\n",
       "            ).addTo(map_f322ae4717fd7964aec0e70bd64dbb4b);\n",
       "        \n",
       "&lt;/script&gt;\n",
       "&lt;/html&gt;\" style=\"position:absolute;width:100%;height:100%;left:0;top:0;border:none !important;\" allowfullscreen webkitallowfullscreen mozallowfullscreen></iframe></div></div>"
      ],
      "text/plain": [
       "<folium.folium.Map at 0x1a819c90e20>"
      ]
     },
     "execution_count": 20,
     "metadata": {},
     "output_type": "execute_result"
    }
   ],
   "source": [
    "map"
   ]
  },
  {
   "cell_type": "code",
   "execution_count": 21,
   "id": "0d97a137",
   "metadata": {},
   "outputs": [],
   "source": [
    "df['country_name'] = df['country_code'].map(european_countries)"
   ]
  },
  {
   "cell_type": "code",
   "execution_count": 22,
   "id": "c87c6be7",
   "metadata": {},
   "outputs": [],
   "source": [
    "result = df.groupby('country_name').size().sort_values(ascending=True)"
   ]
  },
  {
   "cell_type": "code",
   "execution_count": 23,
   "id": "3f7c18a5",
   "metadata": {},
   "outputs": [
    {
     "data": {
      "text/plain": [
       "Text(0, 0.5, 'Country')"
      ]
     },
     "execution_count": 23,
     "metadata": {},
     "output_type": "execute_result"
    },
    {
     "data": {
      "image/png": "[encoded data removed]",
      "text/plain": [
       "<Figure size 1080x864 with 1 Axes>"
      ]
     },
     "metadata": {
      "needs_background": "light"
     },
     "output_type": "display_data"
    }
   ],
   "source": [
    "result.plot(kind='barh', rot=0, width=0.3, align='center', figsize=(15,12))\n",
    "plt.xlabel(\"count\")\n",
    "plt.ylabel(\"Country\")"
   ]
  },
  {
   "cell_type": "code",
   "execution_count": 24,
   "id": "51e25727",
   "metadata": {},
   "outputs": [],
   "source": [
    "# result"
   ]
  },
  {
   "cell_type": "code",
   "execution_count": 25,
   "id": "3a103c23",
   "metadata": {},
   "outputs": [
    {
     "name": "stdout",
     "output_type": "stream",
     "text": [
      "Countries:\t28 \n",
      "Total fablabs:\t404\n"
     ]
    }
   ],
   "source": [
    "print(\"Countries:\\t\" + str(result.shape[0]) + \" \\nTotal fablabs:\\t\" + str(result.sum()))"
   ]
  },
  {
   "cell_type": "code",
   "execution_count": 26,
   "id": "3bcb4934",
   "metadata": {},
   "outputs": [
    {
     "data": {
      "text/html": [
       "<div>\n",
       "<style scoped>\n",
       "    .dataframe tbody tr th:only-of-type {\n",
       "        vertical-align: middle;\n",
       "    }\n",
       "\n",
       "    .dataframe tbody tr th {\n",
       "        vertical-align: top;\n",
       "    }\n",
       "\n",
       "    .dataframe thead th {\n",
       "        text-align: right;\n",
       "    }\n",
       "</style>\n",
       "<table border=\"1\" class=\"dataframe\">\n",
       "  <thead>\n",
       "    <tr style=\"text-align: right;\">\n",
       "      <th></th>\n",
       "      <th>name</th>\n",
       "      <th>address_1</th>\n",
       "      <th>address_2</th>\n",
       "      <th>city</th>\n",
       "      <th>county</th>\n",
       "      <th>postal_code</th>\n",
       "      <th>country_code</th>\n",
       "      <th>latitude</th>\n",
       "      <th>longitude</th>\n",
       "      <th>address_notes</th>\n",
       "      <th>phone</th>\n",
       "      <th>email</th>\n",
       "      <th>capabilities</th>\n",
       "      <th>activity_status</th>\n",
       "      <th>links</th>\n",
       "      <th>country_name</th>\n",
       "    </tr>\n",
       "  </thead>\n",
       "  <tbody>\n",
       "    <tr>\n",
       "      <th>18</th>\n",
       "      <td>FabLab du Dôme à Caen</td>\n",
       "      <td>3 Esplanade Stéphane Hessel</td>\n",
       "      <td>Le Dôme</td>\n",
       "      <td>Caen</td>\n",
       "      <td>Normandie</td>\n",
       "      <td>14000</td>\n",
       "      <td>FR</td>\n",
       "      <td>49.181016</td>\n",
       "      <td>-0.347539</td>\n",
       "      <td>Le FabLab est situé au niveau R2.</td>\n",
       "      <td>0261451935</td>\n",
       "      <td>fablab@ledome.info</td>\n",
       "      <td>[three_d_printing, cnc_milling, circuit_produc...</td>\n",
       "      <td>active</td>\n",
       "      <td>[{'id': 656, 'url': 'http://www.ledome.info'},...</td>\n",
       "      <td>France</td>\n",
       "    </tr>\n",
       "    <tr>\n",
       "      <th>26</th>\n",
       "      <td>Le Prototype - EleFab</td>\n",
       "      <td>57 Fbg Montmélian</td>\n",
       "      <td></td>\n",
       "      <td>Chambéry</td>\n",
       "      <td>Savoie</td>\n",
       "      <td>73000</td>\n",
       "      <td>FR</td>\n",
       "      <td>45.566169</td>\n",
       "      <td>5.926768</td>\n",
       "      <td></td>\n",
       "      <td>0033634539788</td>\n",
       "      <td>fablab@simplix.fr</td>\n",
       "      <td>[three_d_printing, cnc_milling, laser]</td>\n",
       "      <td>active</td>\n",
       "      <td>[{'id': 4790, 'url': 'http://leprototype.info'...</td>\n",
       "      <td>France</td>\n",
       "    </tr>\n",
       "    <tr>\n",
       "      <th>32</th>\n",
       "      <td>WoMa</td>\n",
       "      <td>15 bis Rue Léon Giraud</td>\n",
       "      <td></td>\n",
       "      <td>Paris</td>\n",
       "      <td></td>\n",
       "      <td>75019</td>\n",
       "      <td>FR</td>\n",
       "      <td>48.887851</td>\n",
       "      <td>2.382753</td>\n",
       "      <td>Step in, it's open !</td>\n",
       "      <td>+33 1 40 18 59 21</td>\n",
       "      <td>hello@woma.fr</td>\n",
       "      <td>[three_d_printing, cnc_milling, circuit_produc...</td>\n",
       "      <td>active</td>\n",
       "      <td>[{'id': 1024, 'url': 'https://woma.fr'}]</td>\n",
       "      <td>France</td>\n",
       "    </tr>\n",
       "    <tr>\n",
       "      <th>59</th>\n",
       "      <td>Fablab Leoben</td>\n",
       "      <td>Langgasse 11</td>\n",
       "      <td></td>\n",
       "      <td>Leoben</td>\n",
       "      <td></td>\n",
       "      <td>8700</td>\n",
       "      <td>AT</td>\n",
       "      <td>47.381001</td>\n",
       "      <td>15.096260</td>\n",
       "      <td></td>\n",
       "      <td>+43 664 5738600</td>\n",
       "      <td>office@fablab-leoben.at</td>\n",
       "      <td>[three_d_printing, cnc_milling, circuit_produc...</td>\n",
       "      <td>active</td>\n",
       "      <td>[{'id': 2062, 'url': 'http://www.fablab-Leoben...</td>\n",
       "      <td>Austria</td>\n",
       "    </tr>\n",
       "    <tr>\n",
       "      <th>61</th>\n",
       "      <td>fablab iMAL</td>\n",
       "      <td>30-34 Quai des Charbonnages Koolmijnenkaai</td>\n",
       "      <td></td>\n",
       "      <td>Brussels</td>\n",
       "      <td></td>\n",
       "      <td>1080</td>\n",
       "      <td>BE</td>\n",
       "      <td>50.855130</td>\n",
       "      <td>4.342420</td>\n",
       "      <td>Enter by the number 30.\\r\\nIt's on the first f...</td>\n",
       "      <td>+32 2 410 30 93</td>\n",
       "      <td>fablab@imal.org</td>\n",
       "      <td>[three_d_printing, cnc_milling, laser, precisi...</td>\n",
       "      <td>active</td>\n",
       "      <td>[{'id': 25, 'url': 'http://www.imal.org/fablab...</td>\n",
       "      <td>Belgium</td>\n",
       "    </tr>\n",
       "  </tbody>\n",
       "</table>\n",
       "</div>"
      ],
      "text/plain": [
       "                     name                                   address_1  \\\n",
       "18  FabLab du Dôme à Caen                 3 Esplanade Stéphane Hessel   \n",
       "26  Le Prototype - EleFab                           57 Fbg Montmélian   \n",
       "32                   WoMa                      15 bis Rue Léon Giraud   \n",
       "59          Fablab Leoben                                Langgasse 11   \n",
       "61            fablab iMAL  30-34 Quai des Charbonnages Koolmijnenkaai   \n",
       "\n",
       "   address_2      city     county postal_code country_code   latitude  \\\n",
       "18   Le Dôme      Caen  Normandie       14000           FR  49.181016   \n",
       "26            Chambéry     Savoie       73000           FR  45.566169   \n",
       "32               Paris                  75019           FR  48.887851   \n",
       "59              Leoben                   8700           AT  47.381001   \n",
       "61            Brussels                   1080           BE  50.855130   \n",
       "\n",
       "    longitude                                      address_notes  \\\n",
       "18  -0.347539                  Le FabLab est situé au niveau R2.   \n",
       "26   5.926768                                                      \n",
       "32   2.382753                               Step in, it's open !   \n",
       "59  15.096260                                                      \n",
       "61   4.342420  Enter by the number 30.\\r\\nIt's on the first f...   \n",
       "\n",
       "                phone                    email  \\\n",
       "18         0261451935       fablab@ledome.info   \n",
       "26      0033634539788        fablab@simplix.fr   \n",
       "32  +33 1 40 18 59 21            hello@woma.fr   \n",
       "59    +43 664 5738600  office@fablab-leoben.at   \n",
       "61    +32 2 410 30 93          fablab@imal.org   \n",
       "\n",
       "                                         capabilities activity_status  \\\n",
       "18  [three_d_printing, cnc_milling, circuit_produc...          active   \n",
       "26             [three_d_printing, cnc_milling, laser]          active   \n",
       "32  [three_d_printing, cnc_milling, circuit_produc...          active   \n",
       "59  [three_d_printing, cnc_milling, circuit_produc...          active   \n",
       "61  [three_d_printing, cnc_milling, laser, precisi...          active   \n",
       "\n",
       "                                                links country_name  \n",
       "18  [{'id': 656, 'url': 'http://www.ledome.info'},...       France  \n",
       "26  [{'id': 4790, 'url': 'http://leprototype.info'...       France  \n",
       "32           [{'id': 1024, 'url': 'https://woma.fr'}]       France  \n",
       "59  [{'id': 2062, 'url': 'http://www.fablab-Leoben...      Austria  \n",
       "61  [{'id': 25, 'url': 'http://www.imal.org/fablab...      Belgium  "
      ]
     },
     "execution_count": 26,
     "metadata": {},
     "output_type": "execute_result"
    }
   ],
   "source": [
    "df.head()"
   ]
  },
  {
   "cell_type": "code",
   "execution_count": 27,
   "id": "80121a95",
   "metadata": {},
   "outputs": [],
   "source": [
    "df = df.reset_index(drop=False)"
   ]
  },
  {
   "cell_type": "code",
   "execution_count": 28,
   "id": "37258546",
   "metadata": {},
   "outputs": [],
   "source": [
    "pd.DataFrame(df).sort_values('name', ascending=True).to_excel('labs.xlsx')"
   ]
  },
  {
   "cell_type": "code",
   "execution_count": 29,
   "id": "1949ecbc",
   "metadata": {},
   "outputs": [],
   "source": [
    "capabilities = {machine for row in df['capabilities'] for machine in row}"
   ]
  },
  {
   "cell_type": "code",
   "execution_count": 30,
   "id": "497ff589",
   "metadata": {},
   "outputs": [],
   "source": [
    "df = df.join(df['capabilities'].apply(set).apply(lambda x: pd.Series({item: item in x for item in capabilities})))"
   ]
  },
  {
   "cell_type": "code",
   "execution_count": 31,
   "id": "5e423b42",
   "metadata": {},
   "outputs": [
    {
     "name": "stdout",
     "output_type": "stream",
     "text": [
      "{'three_d_printing': 401, 'laser': 371, 'precision_milling': 259, 'cnc_milling': 344, 'circuit_production': 258, 'vinyl_cutting': 322}\n"
     ]
    }
   ],
   "source": [
    "machine_count = {item:df[item].sum() for item in capabilities}\n",
    "print(machine_count)"
   ]
  },
  {
   "cell_type": "code",
   "execution_count": 32,
   "id": "e0e94d2b",
   "metadata": {},
   "outputs": [
    {
     "name": "stdout",
     "output_type": "stream",
     "text": [
      "Minimun machine count: 1955\n"
     ]
    },
    {
     "data": {
      "image/png": "[encoded data removed]",
      "text/plain": [
       "<Figure size 432x288 with 1 Axes>"
      ]
     },
     "metadata": {
      "needs_background": "light"
     },
     "output_type": "display_data"
    }
   ],
   "source": [
    "plt.barh(*zip(*machine_count.items()))\n",
    "print(\"Minimun machine count: \" + str(sum(machine_count.values())))"
   ]
  },
  {
   "cell_type": "code",
   "execution_count": null,
   "id": "d02f5d0e",
   "metadata": {},
   "outputs": [],
   "source": []
  }
 ],
 "metadata": {
  "kernelspec": {
   "display_name": "Python 3 (ipykernel)",
   "language": "python",
   "name": "python3"
  },
  "language_info": {
   "codemirror_mode": {
    "name": "ipython",
    "version": 3
   },
   "file_extension": ".py",
   "mimetype": "text/x-python",
   "name": "python",
   "nbconvert_exporter": "python",
   "pygments_lexer": "ipython3",
   "version": "3.9.13"
  }
 },
 "nbformat": 4,
 "nbformat_minor": 5
}
